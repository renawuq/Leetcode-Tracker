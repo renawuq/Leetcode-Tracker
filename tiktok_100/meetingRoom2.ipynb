{
 "cells": [
  {
   "cell_type": "markdown",
   "metadata": {},
   "source": [
    "### Q20. Meeting Rooms II\n",
    "Given an array of meeting time intervals consisting of start and end times [[s1,e1],[s2,e2],...] (si < ei), find the minimum number of conference rooms required.\n",
    "\n",
    "For example, Given [[0, 30],[5, 10],[15, 20]], return 2.\n",
    "\n",
    "#### *Idea*\n",
    "1. It really depend on the starting time of the meeting, so we need to sorted the meeting based on their starting time \n",
    "2. Use min heap to keep track of the meeting with the earlest end time. \n",
    "3. If start < end, earliest starting meeting end faster than the end time, we need 1 room\n",
    "4. If start > end, we know the previous room is free, so we pop the room from the list\n",
    "5. The room is the number we want to return.\n"
   ]
  },
  {
   "cell_type": "code",
   "execution_count": null,
   "metadata": {},
   "outputs": [],
   "source": [
    "import heapq\n",
    "def(self, list1): \n",
    "    # sorted based on meeting starting time \n",
    "    list1.sort(key=lambda x:x[0])\n",
    "\n",
    "    free = []\n",
    "    # record the first meeting end time \n",
    "    heapq.heappush(free, lists1[0][1])\n",
    "    for i in range(1, len(lists1)):\n",
    "        # if the current start time later then end time\n",
    "        if lists1[i][0] >= free[0]:\n",
    "            heapq.heappop(free)\n",
    "        heapq.heappush(free, lists1[i][1])\n",
    "    return len(free)\n",
    "\n"
   ]
  },
  {
   "cell_type": "code",
   "execution_count": null,
   "metadata": {},
   "outputs": [],
   "source": [
    "def minMeetingRoom(lists):\n",
    "    if not lists: \n",
    "        return 0 \n",
    "    start = sorted(i[0] for i in lists)\n",
    "    end = sorted(i[1] for i in lists)\n",
    "\n",
    "    start_ptr, end_ptr = 0,0\n",
    "    room = 0\n",
    "    while start < len(lists): \n",
    "        if start[start_ptr] < end[end_ptr]:\n",
    "            room += 1 \n",
    "            start_ptr += 1 \n",
    "        else: \n",
    "            romm -= 1 \n",
    "            end_ptr += 1\n",
    "    return room"
   ]
  }
 ],
 "metadata": {
  "kernelspec": {
   "display_name": "Python 3",
   "language": "python",
   "name": "python3"
  },
  "language_info": {
   "name": "python",
   "version": "3.11.10"
  },
  "orig_nbformat": 4
 },
 "nbformat": 4,
 "nbformat_minor": 2
}
