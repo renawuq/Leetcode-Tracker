{
 "cells": [
  {
   "cell_type": "markdown",
   "metadata": {},
   "source": [
    "### Q23. Course Schedule (207)\n",
    "https://leetcode.com/problems/course-schedule/description/\n",
    "\n",
    "There are a total of numCourses courses you have to take, labeled from 0 to numCourses - 1. You are given an array prerequisites where prerequisites[i] = [ai, bi] indicates that you must take course bi first if you want to take course ai.\n",
    "\n",
    "For example, the pair [0, 1], indicates that to take course 0 you have to first take course 1.\n",
    "Return true if you can finish all courses. Otherwise, return false.\n",
    "\n",
    "#### *Idea*\n",
    "1. As one course will be a preq of another course, we can use direct graph to indicate 2 coueses has a relationship. \n",
    "2. For example [a, b] => must take b before a. So consider each course as a node, create a direct graph such that there is edge from b to a if b must be take before a. \n",
    "3. Check if there is a cycle (if there is a cycle, then it is impossible to take all the course). "
   ]
  },
  {
   "cell_type": "code",
   "execution_count": null,
   "metadata": {
    "vscode": {
     "languageId": "plaintext"
    }
   },
   "outputs": [],
   "source": [
    "class Solution:\n",
    "    def canFinish(self, numCourses: int, prerequisites: List[List[int]]) -> bool:\n",
    "        graph = defaultdict(list)\n",
    "        for preq in prerequisites: \n",
    "            # a has a list of node (b)\n",
    "            graph[preq[0]].append(preq[1])\n",
    "        # perform DFS to check cycle \n",
    "        visit = [0] * numCourses\n",
    "        def dfs (course): \n",
    "            # if current course ha been visit: there is a cycle \n",
    "            if visit[course] == 1: \n",
    "                # impossible to take all courses \n",
    "                return False \n",
    "                # if the current course has been fully visit, return True \n",
    "            if visit[course] == 2: \n",
    "                return True\n",
    "            # mark current course a visit \n",
    "            visit[course] = 1\n",
    "            for preq in graph[course]: \n",
    "                if not dfs(preq): \n",
    "                    return False \n",
    "            visit[course] = 2 \n",
    "            return True \n",
    "        for course in range(numCourses):\n",
    "            if not dfs(course):\n",
    "                return False \n",
    "        return True \n",
    "# 74.38%, 58.92% "
   ]
  },
  {
   "cell_type": "markdown",
   "metadata": {},
   "source": [
    "Another solution will be using Kahn's algorithm, which will use topological sorting via BFS.\n",
    "\n",
    "We still need to construct a graph, but instead of directly detect the cycle, we will remove the edge if a course has been taken and check if all the edge can be taken at the end of the code. "
   ]
  },
  {
   "cell_type": "code",
   "execution_count": null,
   "metadata": {
    "vscode": {
     "languageId": "plaintext"
    }
   },
   "outputs": [],
   "source": [
    "class Solution:\n",
    "    def canFinish(self, numCourses: int, prerequisites: List[List[int]]) -> bool:\n",
    "        graph = defaultdict(list)\n",
    "        in_degree = [0] * numCourses \n",
    "        for preq in prerequisites: \n",
    "            # a has a list of node (b) where b->a\n",
    "            graph[preq[1]].append(preq[0])\n",
    "            # keep track of the in degree with each node \n",
    "            in_degree[preq[0]] += 1 \n",
    "        # keep track of the courses has been taken \n",
    "        course_taken = 0\n",
    "        # course can be taken \n",
    "        can_take_course = deque(i for i in range(numCourses) if in_degree[i] == 0)\n",
    "        while can_take_course: \n",
    "            current = can_take_course.popleft() \n",
    "            course_taken += 1 \n",
    "            for node in graph[current]: \n",
    "                in_degree[node] -= 1 \n",
    "                if in_degree[node] == 0:\n",
    "                    can_take_course.append(node)\n",
    "        return numCourses == course_taken\n",
    "\n",
    "# 25.97%, 83.35%"
   ]
  }
 ],
 "metadata": {
  "language_info": {
   "name": "python"
  },
  "orig_nbformat": 4
 },
 "nbformat": 4,
 "nbformat_minor": 2
}
