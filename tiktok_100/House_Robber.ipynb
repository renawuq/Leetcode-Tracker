{
 "cells": [
  {
   "cell_type": "markdown",
   "metadata": {},
   "source": [
    "### Q21. House Robber (198) \n",
    "https://leetcode.com/problems/house-robber/description/\n",
    "\n",
    "You are a professional robber planning to rob houses along a street. Each house has a certain amount of money stashed, the only constraint stopping you from robbing each of them is that adjacent houses have security systems connected and it will automatically contact the police if two adjacent houses were broken into on the same night.\n",
    "\n",
    "Given an integer array nums representing the amount of money of each house, return the maximum amount of money you can rob tonight without alerting the police.\n",
    "\n",
    "#### *Idea*\n",
    "1. Since adjacent house have security systems connected, we can't sorted the list as it will break the original order of the list \n",
    "2. Trival idea will be starting from the first element of the list, sum the money it rob and only keep the maximum money. \n",
    "3. That is the idea of dynamic programming. Consider Current[i] = max(Current[i-1], current[i-2] + nums[i]) where current[0] = nums[0] and current[1] = max(nums[0], nums[1]). "
   ]
  },
  {
   "cell_type": "code",
   "execution_count": null,
   "metadata": {},
   "outputs": [],
   "source": [
    "class Solution:\n",
    "    def rob(self, nums: List[int]) -> int:\n",
    "        current = {}\n",
    "        l = len(nums)\n",
    "        if l == 1:\n",
    "            return nums[0]\n",
    "        if l <= 2: \n",
    "            return max(nums[0], nums[1])\n",
    "        current[0] = nums[0]\n",
    "        current[1] = max(nums[0], nums[1])\n",
    "        for i in range(2, l):\n",
    "            current[i] = max(current[i-1], current[i-2] + nums[i])\n",
    "        return current[l-1]\n",
    "# 61.18%, 71.33% "
   ]
  },
  {
   "cell_type": "markdown",
   "metadata": {},
   "source": [
    "We can also optimaize its space complexity by remove the map and have memory complexity of O(1)"
   ]
  },
  {
   "cell_type": "code",
   "execution_count": null,
   "metadata": {},
   "outputs": [],
   "source": [
    "class Solution:\n",
    "    def rob(self, nums: List[int]) -> int:\n",
    "        first, second = 0 , 0 \n",
    "        l = len(nums)\n",
    "        if l == 1:\n",
    "            return nums[0]\n",
    "        if l <= 2: \n",
    "            return max(nums[0], nums[1])\n",
    "        first = nums[0]\n",
    "        second = max(nums[0], nums[1])\n",
    "        for i in range(2, l):\n",
    "            temp = second\n",
    "            second = max(second, first + nums[i])\n",
    "            first = temp \n",
    "        return second\n",
    "# 31.89, 71.33% "
   ]
  }
 ],
 "metadata": {
  "language_info": {
   "name": "python"
  },
  "orig_nbformat": 4
 },
 "nbformat": 4,
 "nbformat_minor": 2
}
