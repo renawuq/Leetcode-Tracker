{
 "cells": [
  {
   "cell_type": "markdown",
   "metadata": {},
   "source": [
    "### Q8. Binary Search \n",
    "\n",
    "https://leetcode.com/problems/binary-search/description/\n",
    "\n",
    "Given an array of integers nums which is sorted in ascending order, and an integer target, write a function to search target in nums. If target exists, then return its index. Otherwise, return -1.\n",
    "\n",
    "You must write an algorithm with O(log n) runtime complexity.\n",
    "\n",
    "#### *Idea*\n",
    "1. Not much, just implement binary search algorithm. \n",
    "2. For a list of number, access the number in the middle and compare with our target. \n",
    "3. As out list is sorted, if the middle number > target, meaning our target must be in the left side of the list so we will just focus on the left side. else verse. "
   ]
  },
  {
   "cell_type": "code",
   "execution_count": null,
   "metadata": {},
   "outputs": [],
   "source": [
    "class Solution:\n",
    "    def search(self, nums: List[int], target: int) -> int:\n",
    "        left = 0\n",
    "        right = len(nums)-1\n",
    "        while left <= right: \n",
    "            mid = (left+right) // 2 \n",
    "            if nums[mid] == target:\n",
    "                return mid\n",
    "            if nums[mid] < target: \n",
    "                left = mid+1\n",
    "            if nums[mid] > target: \n",
    "                right = mid-1\n",
    "        return -1 \n",
    "# 50.17%， 30.99%"
   ]
  },
  {
   "cell_type": "markdown",
   "metadata": {},
   "source": [
    "Similar to this code, we can do the same thing using recursion. "
   ]
  },
  {
   "cell_type": "code",
   "execution_count": null,
   "metadata": {},
   "outputs": [],
   "source": [
    "class Solution:\n",
    "    def search(self, nums: List[int], target: int) -> int:\n",
    "        def binary_search(left, right): \n",
    "            if left > right:\n",
    "                return -1 \n",
    "            mid = (left + right) // 2 \n",
    "            if nums[mid] == target: \n",
    "                return mid \n",
    "            if nums[mid] > target: \n",
    "                return binary_search(left, mid-1)\n",
    "            else: \n",
    "                return binary_search(mid+1,right)\n",
    "        return binary_search(0, len(nums)-1)\n",
    "# 18.03%, 5.98%\n",
    "    # not necessary as it run much slower"
   ]
  }
 ],
 "metadata": {
  "language_info": {
   "name": "python"
  },
  "orig_nbformat": 4
 },
 "nbformat": 4,
 "nbformat_minor": 2
}
