{
 "cells": [
  {
   "cell_type": "markdown",
   "metadata": {},
   "source": [
    "### Q5. Valid Palindrome (125)\n",
    "\n",
    "A phrase is a palindrome if, after converting all uppercase letters into lowercase letters and removing all non-alphanumeric characters, it reads the same forward and backward. Alphanumeric characters include letters and numbers.\n",
    "\n",
    "Given a string s, return true if it is a palindrome, or false otherwise.\n",
    "\n",
    "#### *Idea*\n",
    "1. For palindrom question, it is trival that think about using 2 pointer, 1 point from the beginning of the string and another one point from the end to the beginning. \n",
    "2. Keep updating the pointer until both pointer meet at the same character. \n",
    "3. Make sure to skip all the number/alpha in the string. "
   ]
  },
  {
   "cell_type": "code",
   "execution_count": null,
   "metadata": {},
   "outputs": [],
   "source": [
    "class Solution:\n",
    "    def isPalindrome(self, s: str) -> bool:\n",
    "        left, right = 0, len(s)-1\n",
    "        while left < right: \n",
    "            while left < right and not s[left].isalnum(): \n",
    "                left += 1 \n",
    "            while left < right and not s[right].isalnum(): \n",
    "                right -= 1 \n",
    "            if s[left].lower() != s[right].lower():\n",
    "                return False\n",
    "            left += 1 \n",
    "            right -= 1 \n",
    "        return True \n",
    "# 68.49%, 54.92% "
   ]
  },
  {
   "cell_type": "markdown",
   "metadata": {},
   "source": [
    "What if during the interview that we are not allow to use lower(), isalnum(), isdigit() and all the supportative function? "
   ]
  },
  {
   "cell_type": "code",
   "execution_count": null,
   "metadata": {},
   "outputs": [],
   "source": [
    "class Solution:\n",
    "    def isPalindrome(self, s: str) -> bool:\n",
    "        left, right = 0, len(s)-1\n",
    "        while left < right: \n",
    "            while left < right and not self.checker(s[left]):\n",
    "                left += 1 \n",
    "            while left < right and not self.checker(s[right]): \n",
    "                right -= 1 \n",
    "            if self.my_lower(s[left]) != self.my_lower(s[right]):\n",
    "                return False\n",
    "            left += 1 \n",
    "            right -= 1 \n",
    "        return True \n",
    "    def my_lower(self, c:str) -> str:\n",
    "        if 'A' <= c <='Z': \n",
    "            return chr(ord(c)+32)\n",
    "        return c\n",
    "    def checker(self, s:str) -> bool: \n",
    "        return ('0' <= s <= '9') or ('A' <= s <= 'Z') or ('a' <= s <= 'z')\n",
    "# 6.15%, 84.91%"
   ]
  }
 ],
 "metadata": {
  "kernelspec": {
   "display_name": "Python 3",
   "language": "python",
   "name": "python3"
  },
  "language_info": {
   "name": "python",
   "version": "3.11.10"
  },
  "orig_nbformat": 4
 },
 "nbformat": 4,
 "nbformat_minor": 2
}
