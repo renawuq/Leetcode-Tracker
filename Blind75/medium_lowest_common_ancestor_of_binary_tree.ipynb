{
 "cells": [
  {
   "cell_type": "markdown",
   "metadata": {},
   "source": [
    "### Q10. Lowest Common Ancestor of a binary search tree (235)\n",
    "\n",
    "https://leetcode.com/problems/lowest-common-ancestor-of-a-binary-search-tree/description/\n",
    "\n",
    "Given a binary search tree (BST), find the lowest common ancestor (LCA) node of two given nodes in the BST.\n",
    "\n",
    "According to the definition of LCA on Wikipedia: “The lowest common ancestor is defined between two nodes p and q as the lowest node in T that has both p and q as descendants (where we allow a node to be a descendant of itself).”"
   ]
  },
  {
   "cell_type": "code",
   "execution_count": null,
   "metadata": {},
   "outputs": [],
   "source": [
    "# Definition for a binary tree node.\n",
    "# class TreeNode:\n",
    "#     def __init__(self, x):\n",
    "#         self.val = x\n",
    "#         self.left = None\n",
    "#         self.right = None\n",
    "\n",
    "class Solution:\n",
    "    def lowestCommonAncestor(self, root: 'TreeNode', p: 'TreeNode', q: 'TreeNode') -> 'TreeNode':\n",
    "        if not root: \n",
    "            return None\n",
    "        if root.val < p.val and root.val < q.val:\n",
    "            return self.lowestCommonAncestor(root.right, p, q)\n",
    "        elif root.val > p.val and root.val > q.val:\n",
    "            return self.lowestCommonAncestor(root.left, p, q)\n",
    "        else: \n",
    "            return root\n",
    "# 89.64%, 39.03%\n",
    "        \n",
    "            "
   ]
  },
  {
   "cell_type": "markdown",
   "metadata": {},
   "source": [
    "Or we can do this without recursion. \n"
   ]
  },
  {
   "cell_type": "code",
   "execution_count": null,
   "metadata": {},
   "outputs": [],
   "source": [
    "# Definition for a binary tree node.\n",
    "# class TreeNode:\n",
    "#     def __init__(self, x):\n",
    "#         self.val = x\n",
    "#         self.left = None\n",
    "#         self.right = None\n",
    "\n",
    "class Solution:\n",
    "    def lowestCommonAncestor(self, root: 'TreeNode', p: 'TreeNode', q: 'TreeNode') -> 'TreeNode':\n",
    "        if not root: \n",
    "            return None\n",
    "        current = root \n",
    "        while current: \n",
    "            # if our target is bigger: \n",
    "            if current.val < p.val and current.val < q.val:\n",
    "                current = current.right  \n",
    "            elif current.val > p.val and current.val > q.val: \n",
    "                current = current.left\n",
    "            else: \n",
    "                return current \n",
    "# 89.6%, 39.38%"
   ]
  }
 ],
 "metadata": {
  "language_info": {
   "name": "python"
  },
  "orig_nbformat": 4
 },
 "nbformat": 4,
 "nbformat_minor": 2
}
