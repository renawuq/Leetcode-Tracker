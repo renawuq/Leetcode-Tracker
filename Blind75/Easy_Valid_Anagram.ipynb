{
 "cells": [
  {
   "cell_type": "markdown",
   "metadata": {},
   "source": [
    "### Q7. Valid Anagram (242)\n",
    "\n",
    "https://leetcode.com/problems/valid-anagram/description/\n",
    "\n",
    "Given two strings s and t, return true if t is an anagram of s, and false otherwise.\n",
    "\n",
    "#### *Idea*\n",
    "An Anagram is a word or phrase formed by rearranging the letters of a different word or phrase, using all the original letters exactly once.\n",
    "1. In other word, as long as the number of character for string s and t are the same, we can say it is a valid anagram. \n",
    "2. Use 2 map, each keep track of the number of character exist in the string s & t. \n",
    "3. Compare the map and we have the result! "
   ]
  },
  {
   "cell_type": "code",
   "execution_count": null,
   "metadata": {},
   "outputs": [],
   "source": [
    "class Solution:\n",
    "    def isAnagram(self, s: str, t: str) -> bool:\n",
    "        if len(s) != len(t):\n",
    "            return False\n",
    "        count_s, count_t = {}, {}\n",
    "        for ss in s: \n",
    "            count_s[ss] = count_s.get(ss, 0) + 1 \n",
    "        for tt in t: \n",
    "            count_t[tt] = count_t.get(tt, 0) + 1 \n",
    "        return count_s == count_t\n",
    "# 83.1%, 52.57% "
   ]
  },
  {
   "cell_type": "markdown",
   "metadata": {},
   "source": [
    "We can optimize our code by using only one map and check if the character in another string match. "
   ]
  },
  {
   "cell_type": "code",
   "execution_count": null,
   "metadata": {},
   "outputs": [],
   "source": [
    "class Solution:\n",
    "    def isAnagram(self, s: str, t: str) -> bool:\n",
    "        if len(s) != len(t):\n",
    "            return False\n",
    "        count = {}\n",
    "        for c in s: \n",
    "            count[c] = count.get(c, 0) + 1 \n",
    "        for c in t: \n",
    "            if c not in count or count[c] == 0: \n",
    "                return False\n",
    "            count[c] -= 1 \n",
    "        return True \n",
    "# similar runtime/space complexity as before as the input size is not very big"
   ]
  }
 ],
 "metadata": {
  "language_info": {
   "name": "python"
  },
  "orig_nbformat": 4
 },
 "nbformat": 4,
 "nbformat_minor": 2
}
