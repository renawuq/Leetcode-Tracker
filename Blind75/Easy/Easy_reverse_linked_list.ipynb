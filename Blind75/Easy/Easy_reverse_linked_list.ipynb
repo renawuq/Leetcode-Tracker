{
 "cells": [
  {
   "cell_type": "markdown",
   "metadata": {},
   "source": [
    "### Q18. Reverse Linked List (206)\n",
    "\n",
    "https://leetcode.com/problems/reverse-linked-list/description/\n",
    "\n",
    "Given the head of a singly linked list, reverse the list, and return the reversed list.\n",
    "\n",
    "#### *Idea*\n",
    "1. We can use stack (first in last out) to keep track of the value of each node in the linked list. \n",
    "2. Next, construct a new linked list with the value pop from the stack. \n"
   ]
  },
  {
   "cell_type": "code",
   "execution_count": null,
   "metadata": {
    "vscode": {
     "languageId": "plaintext"
    }
   },
   "outputs": [],
   "source": [
    "# Definition for singly-linked list.\n",
    "# class ListNode:\n",
    "#     def __init__(self, val=0, next=None):\n",
    "#         self.val = val\n",
    "#         self.next = next\n",
    "class Solution:\n",
    "    def reverseList(self, head: Optional[ListNode]) -> Optional[ListNode]:\n",
    "        # first in last out: stack \n",
    "        stack = []\n",
    "        while head: \n",
    "            stack.append(head.val)\n",
    "            head = head.next \n",
    "        current = ListNode()\n",
    "        new_head = current\n",
    "        while stack: \n",
    "            current.next = ListNode(stack.pop())\n",
    "            current = current.next\n",
    "        return new_head.next\n",
    "# 16.7%, 7.22% "
   ]
  },
  {
   "cell_type": "markdown",
   "metadata": {},
   "source": [
    "What is the optimal solution? \n",
    "\n",
    "In place reverse. Instead of using stack, we can directly updated the linked list by modify each next of the node to the prev value of the node. "
   ]
  },
  {
   "cell_type": "code",
   "execution_count": null,
   "metadata": {
    "vscode": {
     "languageId": "plaintext"
    }
   },
   "outputs": [],
   "source": [
    "# Definition for singly-linked list.\n",
    "# class ListNode:\n",
    "#     def __init__(self, val=0, next=None):\n",
    "#         self.val = val\n",
    "#         self.next = next\n",
    "class Solution:\n",
    "    def reverseList(self, head: Optional[ListNode]) -> Optional[ListNode]:\n",
    "        prev = None \n",
    "        current = head \n",
    "        while current: \n",
    "            next_node = current.next\n",
    "            current.next = prev \n",
    "            prev = current\n",
    "            current = next_node\n",
    "        return prev\n",
    "# 56.12%, 38.3% "
   ]
  }
 ],
 "metadata": {
  "language_info": {
   "name": "python"
  },
  "orig_nbformat": 4
 },
 "nbformat": 4,
 "nbformat_minor": 2
}
