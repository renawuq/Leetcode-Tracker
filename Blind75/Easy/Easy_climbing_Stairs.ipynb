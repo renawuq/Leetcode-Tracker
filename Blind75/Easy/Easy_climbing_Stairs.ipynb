{
 "cells": [
  {
   "cell_type": "markdown",
   "metadata": {},
   "source": [
    "### Q16. Climbing Stairs (70)\n",
    "\n",
    "https://leetcode.com/problems/climbing-stairs/\n",
    "\n",
    "You are climbing a staircase. It takes n steps to reach the top.\n",
    "\n",
    "Each time you can either climb 1 or 2 steps. In how many distinct ways can you climb to the top?\n",
    "\n",
    "#### *Idea*\n",
    "1. When n = 1, there is only 1 way to go to the stair. 1 => 1 way\n",
    "2. When n = 2, consider n = 1 (take 1 stair everytime) as 1 way. Take 2 stairs, 1&1, 2 => 2 ways. \n",
    "3. When n = 3, consider n = 1 (take 1 stair everytime), 1&1&1, 2&1, 1&2 => 3 way\n",
    "4. When n = 4, 1&1&1&1, 2&2, 1&1&2, 2&1&1, 1&2&1 => 5 ways  \n",
    "5. When n = 5 => (n = 4) + (n = 3)\n",
    "6. From above, we get to see that n = 1 and n = 2 are our based case. Starting frorm n = 3, the way to get to stair 3 = way to get to stair 1 + way to get to stair 2. Why is that? \n",
    "7. Because in order to climb to stair n, 1. climb 1 stair from (n-1) 2. climb 2 stair from (n-2)"
   ]
  },
  {
   "cell_type": "code",
   "execution_count": null,
   "metadata": {
    "vscode": {
     "languageId": "plaintext"
    }
   },
   "outputs": [],
   "source": [
    "class Solution:\n",
    "    def climbStairs(self, n: int) -> int:\n",
    "        track = {}\n",
    "        if n <= 2:\n",
    "            return n \n",
    "        track[0] = 1\n",
    "        track[1] = 2\n",
    "        for x in range(2, n): \n",
    "            track[x] = track[x-1] + track[x-2]\n",
    "        return track[n-1]\n",
    "# 21.4%, 20.71%"
   ]
  },
  {
   "cell_type": "markdown",
   "metadata": {},
   "source": [
    "We could improve our runtime by chaning our code: "
   ]
  },
  {
   "cell_type": "code",
   "execution_count": null,
   "metadata": {
    "vscode": {
     "languageId": "plaintext"
    }
   },
   "outputs": [],
   "source": [
    "class Solution:\n",
    "    def climbStairs(self, n: int) -> int:\n",
    "        track = [0]*(n)\n",
    "        if n <= 2:\n",
    "            return n \n",
    "        track[0] = 1\n",
    "        track[1] = 2\n",
    "        for x in range(2, n): \n",
    "            track[x] = track[x-1] + track[x-2]\n",
    "        return track[n-1]"
   ]
  },
  {
   "cell_type": "code",
   "execution_count": null,
   "metadata": {
    "vscode": {
     "languageId": "plaintext"
    }
   },
   "outputs": [],
   "source": [
    "We can also optimize our space by get rid of the map "
   ]
  },
  {
   "cell_type": "code",
   "execution_count": null,
   "metadata": {
    "vscode": {
     "languageId": "plaintext"
    }
   },
   "outputs": [],
   "source": [
    "class Solution:\n",
    "    def climbStairs(self, n: int) -> int:\n",
    "        first = 1 \n",
    "        second = 2 \n",
    "        if n <= 2:\n",
    "            return n \n",
    "        for x in range(2, n): \n",
    "            temp = first \n",
    "            first = second \n",
    "            second = temp + first\n",
    "        return second\n",
    "# 90.93%, 20.71%"
   ]
  }
 ],
 "metadata": {
  "language_info": {
   "name": "python"
  },
  "orig_nbformat": 4
 },
 "nbformat": 4,
 "nbformat_minor": 2
}
