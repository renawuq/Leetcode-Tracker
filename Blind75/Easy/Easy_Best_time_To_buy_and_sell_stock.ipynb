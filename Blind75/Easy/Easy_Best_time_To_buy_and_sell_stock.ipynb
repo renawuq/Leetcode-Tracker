{
 "cells": [
  {
   "cell_type": "markdown",
   "metadata": {},
   "source": [
    "### Q4. Best time to buy and sell stock (121)\n",
    "\n",
    "https://leetcode.com/problems/best-time-to-buy-and-sell-stock/description/\n",
    "\n",
    "You are given an array prices where prices[i] is the price of a given stock on the ith day.\n",
    "\n",
    "You want to maximize your profit by choosing a single day to buy one stock and choosing a different day in the future to sell that stock.\n",
    "\n",
    "Return the maximum profit you can achieve from this transaction. If you cannot achieve any profit, return 0.\n",
    "\n",
    "#### *Idea*\n",
    "1. We want to minmize the number when we buy stock and maximum them when selling. \n",
    "2. We also need to make sure buy stock before selling them. \n",
    "3. Trival idea is that use i and j as the index of the list. Fix i and update j until we find all the possible pair such that nums[i] < nums[j] and return the max(nums[j] - nums[i]). Make sure i always less than j. "
   ]
  },
  {
   "cell_type": "code",
   "execution_count": null,
   "metadata": {},
   "outputs": [],
   "source": [
    "class Solution:\n",
    "    def maxProfit(self, prices: List[int])-> int: \n",
    "        l = len(prices)\n",
    "        max_prices = 0 \n",
    "        for i in range (l-1):\n",
    "            for j in range (i+1, l):\n",
    "                max_prices = max(max_prices, prices[j] - prices[i])\n",
    "        return max_prices"
   ]
  },
  {
   "cell_type": "markdown",
   "metadata": {},
   "source": [
    "But this way it will exceeded the time limit, how do we optimal our code? \n",
    "\n",
    "1. Noticed that we want buy stock at the minimum and sell stock at the maximum. \n",
    "2. We could use 2 pointer, while iterating the list, we can update the min / max stock prices and find the best time to buy and sell the stock. "
   ]
  },
  {
   "cell_type": "code",
   "execution_count": null,
   "metadata": {},
   "outputs": [],
   "source": [
    "class Solution:\n",
    "    def maxProfit(self, prices: List[int])-> int: \n",
    "        l = len(prices)\n",
    "        max_prices = 0\n",
    "        min_prices = prices[0]\n",
    "        for i in range(1, l): \n",
    "            if prices[i] < min_prices: \n",
    "                min_prices = prices[i] \n",
    "            temp = prices[i] - min_prices\n",
    "            if temp > max_prices: \n",
    "                max_prices = temp\n",
    "        return max_prices\n",
    "# 79.98%, 45.2%"
   ]
  }
 ],
 "metadata": {
  "language_info": {
   "name": "python"
  },
  "orig_nbformat": 4
 },
 "nbformat": 4,
 "nbformat_minor": 2
}
