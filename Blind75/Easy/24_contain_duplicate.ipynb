{
 "cells": [
  {
   "cell_type": "markdown",
   "metadata": {},
   "source": [
    "### Q24. Contains Duplicate (217)\n",
    "\n",
    "https://leetcode.com/problems/contains-duplicate/description/\n",
    "\n",
    "Given an integer array nums, return true if any value appears at least twice in the array, and return false if every element is distinct.\n",
    "\n",
    "#### *Idea*\n",
    "1. As set only contain unique value, compare the length of our set with the input list. If the length of our set is smaller than input list, return true, false otherwise. "
   ]
  },
  {
   "cell_type": "code",
   "execution_count": null,
   "metadata": {
    "vscode": {
     "languageId": "plaintext"
    }
   },
   "outputs": [],
   "source": [
    "class Solution:\n",
    "    def containsDuplicate(self, nums: List[int]) -> bool:\n",
    "        unique = set()\n",
    "        for n in nums: \n",
    "            unique.add(n)\n",
    "        return len(unique) != len(nums)\n",
    "# 50.52%, 56.9% "
   ]
  },
  {
   "cell_type": "markdown",
   "metadata": {},
   "source": [
    "2. We can also use map to keep track of the appearance of each number. Once a number appear at least twice, return true. "
   ]
  },
  {
   "cell_type": "code",
   "execution_count": null,
   "metadata": {
    "vscode": {
     "languageId": "plaintext"
    }
   },
   "outputs": [],
   "source": [
    "class Solution:\n",
    "    def containsDuplicate(self, nums: List[int]) -> bool:\n",
    "        track = {}\n",
    "        for n in nums: \n",
    "            v = track.get(n, 0)\n",
    "            if v == 1: \n",
    "                return True \n",
    "            track[n] = v+1\n",
    "        return False\n",
    "# 81.58%, 5.57% "
   ]
  },
  {
   "cell_type": "markdown",
   "metadata": {},
   "source": [
    "3. Based on our first solution, instead of checking the number of element in the set, check if the number exist in the loop, so we can exit the loop ealry is the answer is True. "
   ]
  },
  {
   "cell_type": "code",
   "execution_count": null,
   "metadata": {
    "vscode": {
     "languageId": "plaintext"
    }
   },
   "outputs": [],
   "source": [
    "class Solution:\n",
    "    def containsDuplicate(self, nums: List[int]) -> bool:\n",
    "        unique = set()\n",
    "        for n in nums: \n",
    "            if n in unique:\n",
    "                return True\n",
    "            unique.add(n)\n",
    "        return False\n",
    "# 99.76%, 25.53% "
   ]
  }
 ],
 "metadata": {
  "language_info": {
   "name": "python"
  },
  "orig_nbformat": 4
 },
 "nbformat": 4,
 "nbformat_minor": 2
}
