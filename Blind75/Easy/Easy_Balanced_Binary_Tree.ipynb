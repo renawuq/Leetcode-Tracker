{
 "cells": [
  {
   "cell_type": "markdown",
   "metadata": {},
   "source": [
    "### Q11. Balanced Binary Tree (110)\n",
    "\n",
    "https://leetcode.com/problems/balanced-binary-tree/description/\n",
    "\n",
    "Given a binary tree, determine if it is height-balanced. The height of each subtree is no more than 1. \n",
    "\n",
    "#### *Idea*\n",
    "1. Use dfs to access every node and check for the height of each node in the tree\n",
    "2. For each node, check the difference between left / right height, return false if the difference is bigger than 1. \n",
    "3. Update the height of left / right subtree "
   ]
  },
  {
   "cell_type": "code",
   "execution_count": null,
   "metadata": {
    "vscode": {
     "languageId": "plaintext"
    }
   },
   "outputs": [],
   "source": [
    "# Definition for a binary tree node.\n",
    "# class TreeNode:\n",
    "#     def __init__(self, val=0, left=None, right=None):\n",
    "#         self.val = val\n",
    "#         self.left = left\n",
    "#         self.right = right\n",
    "class Solution:\n",
    "    def isBalanced(self, root: Optional[TreeNode]) -> bool:\n",
    "        def check (node): \n",
    "            if not node:\n",
    "                return 0 \n",
    "            left_height = check(node.left)\n",
    "            right_height = check(node.right)\n",
    "            if left_height == -1:\n",
    "                return -1 \n",
    "            if right_height == -1:\n",
    "                return -1 \n",
    "            if(abs(left_height - right_height) > 1): \n",
    "                return -1 \n",
    "            return  1+max(left_height, right_height)\n",
    "        return check(root) != -1\n",
    "# 74.83%, 95.16%"
   ]
  },
  {
   "cell_type": "code",
   "execution_count": null,
   "metadata": {
    "vscode": {
     "languageId": "plaintext"
    }
   },
   "outputs": [],
   "source": [
    "# Definition for a binary tree node.\n",
    "# class TreeNode:\n",
    "#     def __init__(self, val=0, left=None, right=None):\n",
    "#         self.val = val\n",
    "#         self.left = left\n",
    "#         self.right = right\n",
    "class Solution:\n",
    "    def isBalanced(self, root: Optional[TreeNode]) -> bool:\n",
    "        def check (node): \n",
    "            if not node:\n",
    "                return 0, True\n",
    "            left_height, left_balance = check(node.left)\n",
    "            right_height,right_balance = check(node.right)\n",
    "        \n",
    "            current_height = 1+max(left_height, right_height)\n",
    "            current_balance = left_balance and right_balance and (abs(left_height- right_height)<=1)\n",
    "            return current_height, current_balance\n",
    "\n",
    "        return check(root)[1]\n",
    "# 82.99%, 28.31%"
   ]
  },
  {
   "cell_type": "code",
   "execution_count": null,
   "metadata": {
    "vscode": {
     "languageId": "plaintext"
    }
   },
   "outputs": [],
   "source": [
    "# Definition for a binary tree node.\n",
    "# class TreeNode:\n",
    "#     def __init__(self, val=0, left=None, right=None):\n",
    "#         self.val = val\n",
    "#         self.left = left\n",
    "#         self.right = right\n",
    "class Solution:\n",
    "    def isBalanced(self, root: Optional[TreeNode]) -> bool:\n",
    "        if not root:\n",
    "            return True\n",
    "        height = {}\n",
    "        stack = deque ([(root, 0)])\n",
    "        while stack:\n",
    "            node, process = stack.pop()\n",
    "            if node: \n",
    "                if process: \n",
    "                    left_height = height.get(node.left, 0) \n",
    "                    right_height = height.get(node.right, 0)\n",
    "                    if abs(left_height - right_height) > 1:\n",
    "                        return False\n",
    "                    height[node] = 1+max(left_height,right_height)\n",
    "                else:\n",
    "                    stack.append((node, 1))\n",
    "                    stack.append((node.left, 0))\n",
    "                    stack.append((node.right, 0))\n",
    "        return True\n",
    "# 87.41%, 95.16%"
   ]
  }
 ],
 "metadata": {
  "language_info": {
   "name": "python"
  },
  "orig_nbformat": 4
 },
 "nbformat": 4,
 "nbformat_minor": 2
}
