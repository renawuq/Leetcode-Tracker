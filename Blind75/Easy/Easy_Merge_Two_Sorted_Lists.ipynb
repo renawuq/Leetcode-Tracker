{
 "cells": [
  {
   "cell_type": "markdown",
   "metadata": {},
   "source": [
    "### Q3. Merge 2 sorted lists (21)\n",
    "\n",
    "https://leetcode.com/problems/merge-two-sorted-lists/description/\n",
    "\n",
    "You are given the heads of two sorted linked lists list1 and list2.\n",
    "\n",
    "Merge the two lists into one sorted list. The list should be made by splicing together the nodes of the first two lists.\n",
    "\n",
    "Return the head of the merged linked list.\n",
    "\n",
    "#### *Idea*\n",
    "1. Easiest idea would be have 2 pointer, each point to the head of the list1 and list2. Create a head of the list for return list and start to update our list.\n",
    "2. Make sure everytime we try to access the linked list node, we need to first check if the node is a None value. \n",
    "3. Process both lists until both lists are empty. "
   ]
  },
  {
   "cell_type": "code",
   "execution_count": null,
   "metadata": {
    "vscode": {
     "languageId": "plaintext"
    }
   },
   "outputs": [],
   "source": [
    "# Definition for singly-linked list.\n",
    "# class ListNode:\n",
    "#     def __init__(self, val=0, next=None):\n",
    "#         self.val = val\n",
    "#         self.next = next\n",
    "class Solution:\n",
    "    def mergeTwoLists(self, list1: Optional[ListNode], list2: Optional[ListNode]) -> Optional[ListNode]:\n",
    "        ptr1, ptr2 = list1, list2\n",
    "        current = ListNode(0)\n",
    "        head = current\n",
    "        while ptr1 or ptr2: \n",
    "            if ptr1 is None: \n",
    "                while ptr2: \n",
    "                    current.next = ListNode(ptr2.val)\n",
    "                    current = current.next\n",
    "                    ptr2 = ptr2.next\n",
    "            elif ptr2 is None:\n",
    "                while ptr1: \n",
    "                    current.next = ListNode(ptr1.val)\n",
    "                    current = current.next\n",
    "                    ptr1 = ptr1.next\n",
    "            else: \n",
    "                if ptr1.val < ptr2.val:\n",
    "                    current.next = ListNode(ptr1.val)\n",
    "                    ptr1 = ptr1.next\n",
    "                else:\n",
    "                    current.next = ListNode(ptr2.val)\n",
    "                    ptr2=ptr2.next\n",
    "                current = current.next\n",
    "        return head.next \n",
    "# 80.80%, 5.34% "
   ]
  },
  {
   "cell_type": "markdown",
   "metadata": {},
   "source": [
    "The solution is long and hard to read, we could also do recusion for this question. Basic idea is that use list1 as our final result, if the list1 value is bigger than the list2 value, then, make list1 next point to the list2 (swap 2 list). By this way, we could process both list. "
   ]
  },
  {
   "cell_type": "code",
   "execution_count": null,
   "metadata": {
    "vscode": {
     "languageId": "plaintext"
    }
   },
   "outputs": [],
   "source": []
  }
 ],
 "metadata": {
  "language_info": {
   "name": "python"
  },
  "orig_nbformat": 4
 },
 "nbformat": 4,
 "nbformat_minor": 2
}
