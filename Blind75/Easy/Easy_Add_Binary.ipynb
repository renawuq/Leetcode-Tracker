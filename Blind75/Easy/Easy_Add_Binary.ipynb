{
 "cells": [
  {
   "cell_type": "markdown",
   "metadata": {},
   "source": [
    "### Q20. Add binary (67)\n",
    "\n",
    "https://leetcode.com/problems/add-binary/\n",
    "\n",
    "Given two binary strings a and b, return their sum as a binary string.\n",
    "\n",
    "Example 1:\n",
    "\n",
    "Input: a = \"11\", b = \"1\"\n",
    "Output: \"100\"\n",
    "Example 2:\n",
    "\n",
    "Input: a = \"1010\", b = \"1011\"\n",
    "Output: \"10101\"\n",
    "\n",
    "#### *Idea*\n",
    "1. Binary -> int -> add operator -> binary: excessive the data range \n",
    "2. Basic cases included: \n",
    "\n",
    "If carry == 0: \n",
    "\n",
    "a. 0 + 0 = 0\n",
    "\n",
    "b. 0 + 1 / 1 + 0 = 1 \n",
    "\n",
    "c. 1 + 1 = 0 => carry = 1 \n",
    "\n",
    "If carry == 1: \n",
    "\n",
    "a. 0 + 0 = 1 \n",
    "\n",
    "b. 0 + 1 / 1 + 0 => 0 => carry = 1 \n",
    "\n",
    "c. 1 + 1 => 1 => carry = 1 \n",
    "\n",
    "\n",
    "3. Consider total = last_#_a + last_#_b + carry. Mod the total by 2 so we will only obtain number 0 or 1. Total // 2 will give us the number of carry for the next round.\n",
    "4. For our result, use [] instead of int so we can easily store the value 1 / 0 only. \n"
   ]
  },
  {
   "cell_type": "code",
   "execution_count": null,
   "metadata": {
    "vscode": {
     "languageId": "plaintext"
    }
   },
   "outputs": [],
   "source": [
    "class Solution:\n",
    "    def addBinary(self, a: str, b: str) -> str:\n",
    "        a = int(a)\n",
    "        b = int(b)\n",
    "        result = []\n",
    "        carry = 0\n",
    "        if a + b == 0:\n",
    "            return str(0) \n",
    "        while a > 0 or b > 0 or carry > 0: \n",
    "            last_a, last_b = a%10, b%10 \n",
    "            total = last_a + last_b + carry \n",
    "            carry = total // 2 \n",
    "            result.append(total % 2)\n",
    "            a, b = a//10, b//10\n",
    "        # result.reverse()\n",
    "        result = result[::-1]\n",
    "\n",
    "        return ''.join(map(str, result)) \n",
    "# 88.18%，58，74% "
   ]
  },
  {
   "cell_type": "markdown",
   "metadata": {},
   "source": [
    "We can also have the similar solution without the need of the reverse function. But this ways has worse runtime complexity as it would take O(n^2) in total by using the insert function "
   ]
  },
  {
   "cell_type": "code",
   "execution_count": null,
   "metadata": {
    "vscode": {
     "languageId": "plaintext"
    }
   },
   "outputs": [],
   "source": [
    "class Solution:\n",
    "    def addBinary(self, a: str, b: str) -> str:\n",
    "        a = int(a)\n",
    "        b = int(b)\n",
    "        result = []\n",
    "        carry = 0\n",
    "        if a + b == 0:\n",
    "            return str(0) \n",
    "        while a > 0 or b > 0 or carry > 0: \n",
    "            last_a, last_b = a%10, b%10 \n",
    "            total = last_a + last_b + carry \n",
    "            carry = total // 2 \n",
    "            result.insert(0, total % 2)\n",
    "            a, b = a//10, b//10\n",
    "        # result.reverse()\n",
    "        \n",
    "        return ''.join(map(str, result)) \n",
    "# 14.39% , 7.38%"
   ]
  }
 ],
 "metadata": {
  "language_info": {
   "name": "python"
  },
  "orig_nbformat": 4
 },
 "nbformat": 4,
 "nbformat_minor": 2
}
