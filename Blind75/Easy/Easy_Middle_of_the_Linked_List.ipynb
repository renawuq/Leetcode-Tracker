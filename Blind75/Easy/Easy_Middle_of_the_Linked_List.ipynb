{
 "cells": [
  {
   "cell_type": "markdown",
   "metadata": {},
   "source": [
    "### Q22. Middle of the Linked List (876)\n",
    "\n",
    "https://leetcode.com/problems/middle-of-the-linked-list/description/\n",
    "\n",
    "Given the head of a singly linked list, return the middle node of the linked list.\n",
    "\n",
    "If there are two middle nodes, return the second middle node.\n",
    "\n",
    "#### *Idea*\n",
    "1. Store all the node into a stack. \n",
    "2. Return the node at the middle of stack"
   ]
  },
  {
   "cell_type": "code",
   "execution_count": null,
   "metadata": {
    "vscode": {
     "languageId": "plaintext"
    }
   },
   "outputs": [],
   "source": [
    "# Definition for singly-linked list.\n",
    "# class ListNode:\n",
    "#     def __init__(self, val=0, next=None):\n",
    "#         self.val = val\n",
    "#         self.next = next\n",
    "class Solution:\n",
    "    def middleNode(self, head: Optional[ListNode]) -> Optional[ListNode]:\n",
    "        track = []\n",
    "        while head: \n",
    "            track.append(head)\n",
    "            head = head.next\n",
    "        l = len(track)\n",
    "        if l % 2 == 1:\n",
    "            return track[l // 2]\n",
    "        else:\n",
    "            return track[l//2]\n",
    "# 99.29%, 18.07% "
   ]
  },
  {
   "cell_type": "markdown",
   "metadata": {},
   "source": [
    "Improve space complexity by using map instead of list"
   ]
  },
  {
   "cell_type": "code",
   "execution_count": null,
   "metadata": {
    "vscode": {
     "languageId": "plaintext"
    }
   },
   "outputs": [],
   "source": [
    "# Definition for singly-linked list.\n",
    "# class ListNode:\n",
    "#     def __init__(self, val=0, next=None):\n",
    "#         self.val = val\n",
    "#         self.next = next\n",
    "class Solution:\n",
    "    def middleNode(self, head: Optional[ListNode]) -> Optional[ListNode]:\n",
    "        track = {}\n",
    "        index = 0\n",
    "        while head: \n",
    "            track[index] = head\n",
    "            index += 1 \n",
    "            head = head.next\n",
    "        l = len(track)\n",
    "        if l % 2 == 1:\n",
    "            return track[l // 2]\n",
    "        else:\n",
    "            return track[l//2]\n",
    "# 62.05%, 63.26% "
   ]
  },
  {
   "cell_type": "markdown",
   "metadata": {},
   "source": [
    "We can also use the slow and fast pointer idea (like what we used when looking for the cycle)! Slow pointer = slow ptr.next and fast ptr = fast ptr.next.next. In this case, while the fast pointer reach the end of the list, the slow pointer point to the middle node of the linked list."
   ]
  },
  {
   "cell_type": "code",
   "execution_count": null,
   "metadata": {
    "vscode": {
     "languageId": "plaintext"
    }
   },
   "outputs": [],
   "source": [
    "# Definition for singly-linked list.\n",
    "# class ListNode:\n",
    "#     def __init__(self, val=0, next=None):\n",
    "#         self.val = val\n",
    "#         self.next = next\n",
    "class Solution:\n",
    "    def middleNode(self, head: Optional[ListNode]) -> Optional[ListNode]:\n",
    "        if head is None or head.next is None: \n",
    "            return head \n",
    "        slow, fast = head, head\n",
    "        while fast and fast.next: \n",
    "            slow = slow.next\n",
    "            fast = fast.next.next\n",
    "        return slow  \n",
    "# 88.6%, 91.38% "
   ]
  }
 ],
 "metadata": {
  "language_info": {
   "name": "python"
  },
  "orig_nbformat": 4
 },
 "nbformat": 4,
 "nbformat_minor": 2
}
