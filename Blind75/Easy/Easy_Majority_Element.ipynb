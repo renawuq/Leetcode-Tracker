{
 "cells": [
  {
   "cell_type": "markdown",
   "metadata": {},
   "source": [
    "### Q19. Majority Element (169)\n",
    "\n",
    "https://leetcode.com/problems/majority-element/description/\n",
    "\n",
    "Given an array nums of size n, return the majority element.\n",
    "\n",
    "The majority element is the element that appears more than ⌊n / 2⌋ times. You may assume that the majority element always exists in the array.\n",
    "\n",
    "#### *Idea*\n",
    "1. Count each number in the list, find the number appear at least n/2 times. "
   ]
  },
  {
   "cell_type": "code",
   "execution_count": null,
   "metadata": {},
   "outputs": [],
   "source": [
    "class Solution:\n",
    "    def majorityElement(self, nums: List[int]) -> int:\n",
    "        counts = Counter(nums)\n",
    "        goal = len(nums)//2 \n",
    "        for num, c in counts.items():\n",
    "            if c > goal: \n",
    "                return num\n",
    "# 38.13%, 30.87%"
   ]
  },
  {
   "cell_type": "markdown",
   "metadata": {},
   "source": [
    "We can also apply Boyer-Moore Voting Algorithm (find majority element in the list): \n",
    "\n",
    "1. Identify the candidate that is potential be the majority element  \n",
    "2. Set first number as candidate, count the number of it appear, once it reach 0. Reset and choose the next number from the list as the candidate. "
   ]
  },
  {
   "cell_type": "code",
   "execution_count": null,
   "metadata": {},
   "outputs": [],
   "source": [
    "class Solution:\n",
    "    def majorityElement(self, nums: List[int]) -> int:\n",
    "        candidate = nums[0]\n",
    "        count = 0\n",
    "        for n in nums: \n",
    "            if count == 0:\n",
    "                candidate = n\n",
    "            count += (1 if n==candidate else -1)\n",
    "        return candidate\n",
    "# 47.4% , 30.87%"
   ]
  }
 ],
 "metadata": {
  "language_info": {
   "name": "python"
  },
  "orig_nbformat": 4
 },
 "nbformat": 4,
 "nbformat_minor": 2
}
