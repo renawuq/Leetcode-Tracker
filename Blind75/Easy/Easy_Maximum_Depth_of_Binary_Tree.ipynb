{
 "cells": [
  {
   "cell_type": "markdown",
   "metadata": {},
   "source": [
    "### Q23. Maximum Depth of Binary Tree (104)\n",
    "\n",
    "https://leetcode.com/problems/maximum-depth-of-binary-tree/description/\n",
    "\n",
    "Given the root of a binary tree, return its maximum depth.\n",
    "\n",
    "A binary tree's maximum depth is the number of nodes along the longest path from the root node down to the farthest leaf node.\n",
    "\n",
    "#### *Idea*\n",
    "1. Similar to the maxiumu diameter problem, we could used dfs and update the height at the same time. "
   ]
  },
  {
   "cell_type": "code",
   "execution_count": null,
   "metadata": {},
   "outputs": [],
   "source": [
    "# Definition for a binary tree node.\n",
    "# class TreeNode:\n",
    "#     def __init__(self, val=0, left=None, right=None):\n",
    "#         self.val = val\n",
    "#         self.left = left\n",
    "#         self.right = right\n",
    "class Solution:\n",
    "    def maxDepth(self, root: Optional[TreeNode]) -> int:\n",
    "        def getDepth(node):\n",
    "            if not node:\n",
    "                return 0 \n",
    "            left_height = getDepth(node.left)\n",
    "            right_height = getDepth(node.right)\n",
    "            return 1 + max(left_height, right_height)\n",
    "        return getDepth(root)\n",
    "# 26.53%, 50.92% "
   ]
  },
  {
   "cell_type": "markdown",
   "metadata": {},
   "source": [
    "We can also get rid of the recusion. Use map and stack to perform the dfs and find the height. "
   ]
  },
  {
   "cell_type": "code",
   "execution_count": null,
   "metadata": {},
   "outputs": [],
   "source": [
    "# Definition for a binary tree node.\n",
    "# class TreeNode:\n",
    "#     def __init__(self, val=0, left=None, right=None):\n",
    "#         self.val = val\n",
    "#         self.left = left\n",
    "#         self.right = right\n",
    "class Solution:\n",
    "    def maxDepth(self, root: Optional[TreeNode]) -> int:\n",
    "        track = [(root, False)]\n",
    "        height = {} \n",
    "        if not root:\n",
    "            return 0 \n",
    "        while track: \n",
    "            node, visit = track.pop()\n",
    "            if node: \n",
    "                if visit: \n",
    "                    left_height = height.get(node.left, 0)\n",
    "                    right_height = height.get(node.right, 0)\n",
    "                    height[node] = 1 + max(left_height, right_height)\n",
    "                else: \n",
    "                    track.append((node, True))\n",
    "                    track.append((node.left, False))\n",
    "                    track.append((node.right, False))\n",
    "        return height[root]\n",
    "# 43.08%, 8.23%"
   ]
  },
  {
   "cell_type": "markdown",
   "metadata": {},
   "source": [
    "You may also noticed that the visit variable is not necessary in this case and we can get rid of it using: "
   ]
  },
  {
   "cell_type": "code",
   "execution_count": null,
   "metadata": {},
   "outputs": [],
   "source": [
    "# Definition for a binary tree node.\n",
    "# class TreeNode:\n",
    "#     def __init__(self, val=0, left=None, right=None):\n",
    "#         self.val = val\n",
    "#         self.left = left\n",
    "#         self.right = right\n",
    "class Solution:\n",
    "    def maxDepth(self, root: Optional[TreeNode]) -> int:\n",
    "        stack = [(root, 1)]\n",
    "        height = 0 \n",
    "        if not root:\n",
    "            return 0 \n",
    "        while stack: \n",
    "            node, depth = stack.pop()\n",
    "            if node: \n",
    "                height = max(height, depth)\n",
    "                stack.append((node.left, depth+1))\n",
    "                stack.append((node.right, depth+1))\n",
    "        return height\n",
    "# 85.41%, 95.6% "
   ]
  }
 ],
 "metadata": {
  "language_info": {
   "name": "python"
  },
  "orig_nbformat": 4
 },
 "nbformat": 4,
 "nbformat_minor": 2
}
