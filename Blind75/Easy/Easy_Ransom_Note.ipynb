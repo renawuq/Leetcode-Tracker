{
 "cells": [
  {
   "cell_type": "markdown",
   "metadata": {},
   "source": [
    "### Q15. Random Note (383)\n",
    "\n",
    "https://leetcode.com/problems/ransom-note/description/\n",
    "\n",
    "Given two strings ransomNote and magazine, return true if ransomNote can be constructed by using the letters from magazine and false otherwise.\n",
    "\n",
    "Each letter in magazine can only be used once in ransomNote.\n",
    "\n",
    "#### *Idea*\n",
    "1. As all the letter from the ransomNote, we can start from keep tracking the number of letters appear in the magazine. \n",
    "2. Compare with the number of each letter in ransomNote, if ransomNote need more letter or have letter that doesn't exist in the magazine, then return False. "
   ]
  },
  {
   "cell_type": "code",
   "execution_count": null,
   "metadata": {},
   "outputs": [],
   "source": [
    "class Solution:\n",
    "    def canConstruct(self, ransomNote: str, magazine: str) -> bool:\n",
    "        rand = {}\n",
    "        for m in magazine: \n",
    "            rand[m] = rand.get(m, 0) + 1 \n",
    "        for m in ransomNote: \n",
    "            if m not in rand or rand[m] == 0:\n",
    "                return False \n",
    "            rand[m] -= 1 \n",
    "        return True\n",
    "# 60.39%, 29.08% "
   ]
  },
  {
   "cell_type": "markdown",
   "metadata": {},
   "source": [
    "Similarly, we could use list and count to do the same thing. s"
   ]
  },
  {
   "cell_type": "code",
   "execution_count": null,
   "metadata": {},
   "outputs": [],
   "source": [
    "class Solution:\n",
    "    def canConstruct(self, ransomNote: str, magazine: str) -> bool:\n",
    "        rand = []\n",
    "        for m in magazine: \n",
    "            rand.append(m)\n",
    "        for m in ransomNote: \n",
    "            if m not in rand or ransomNote.count(m) > magazine.count(m):\n",
    "                return False \n",
    "        return True\n",
    "# 5.04%, 8.8%"
   ]
  }
 ],
 "metadata": {
  "language_info": {
   "name": "python"
  },
  "orig_nbformat": 4
 },
 "nbformat": 4,
 "nbformat_minor": 2
}
