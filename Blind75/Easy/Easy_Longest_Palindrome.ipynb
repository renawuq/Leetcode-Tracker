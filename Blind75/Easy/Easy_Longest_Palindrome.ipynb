{
 "cells": [
  {
   "cell_type": "markdown",
   "metadata": {},
   "source": [
    "### Q17. Longest Palindrome (409)\n",
    "\n",
    "https://leetcode.com/problems/longest-palindrome/description/\n",
    "\n",
    "Given a string s which consists of lowercase or uppercase letters, return the length of the longest \n",
    "palindrome\n",
    " that can be built with those letters.\n",
    "\n",
    "Letters are case sensitive, for example, \"Aa\" is not considered a palindrome.\n",
    "\n",
    "#### *Idea*\n",
    "1. In order for a string to be palindrome. Its left/right must be the same. \n",
    "2. Once we fix the center of the string, all other characters must have even number of such character in order for it to be palindrome. \n",
    "3. Our goal: check how many even number of character they are, the number of the even character + old character - 1 (as it could contributed to pair if odd number > 2) + 1 (if there is odd number) is our result. \n",
    "4. Note that we need to check for upper/lower case "
   ]
  },
  {
   "cell_type": "code",
   "execution_count": null,
   "metadata": {
    "vscode": {
     "languageId": "plaintext"
    }
   },
   "outputs": [],
   "source": [
    "class Solution:\n",
    "    def longestPalindrome(self, s: str) -> int:\n",
    "        unique = set()\n",
    "        for c in s: \n",
    "            if c not in unique: \n",
    "                unique.add(c)\n",
    "        result = 0 \n",
    "        odd = False\n",
    "        for u in unique: \n",
    "            counts = s.count(u)\n",
    "            if counts % 2 ==0: \n",
    "                result += counts\n",
    "            else:\n",
    "                result += counts - 1\n",
    "                odd = True\n",
    "        return result + odd\n",
    "# 25.67%, 25.48% "
   ]
  },
  {
   "cell_type": "markdown",
   "metadata": {},
   "source": [
    "We could also use counter from collection to speed up our code. "
   ]
  },
  {
   "cell_type": "code",
   "execution_count": null,
   "metadata": {
    "vscode": {
     "languageId": "plaintext"
    }
   },
   "outputs": [],
   "source": [
    "class Solution:\n",
    "    def longestPalindrome(self, s: str) -> int:\n",
    "        unique = Counter(s)\n",
    "        result = 0 \n",
    "        odd = False\n",
    "        for counts in unique.values(): \n",
    "            if counts % 2 ==0: \n",
    "                result += counts\n",
    "            else:\n",
    "                result += counts - 1\n",
    "                odd = True\n",
    "        return result + odd\n",
    "# 40.01, 70.43%"
   ]
  },
  {
   "cell_type": "markdown",
   "metadata": {},
   "source": [
    "Continuous improve our code: "
   ]
  },
  {
   "cell_type": "code",
   "execution_count": null,
   "metadata": {
    "vscode": {
     "languageId": "plaintext"
    }
   },
   "outputs": [],
   "source": [
    "class Solution:\n",
    "    def longestPalindrome(self, s: str) -> int:\n",
    "        unique = Counter(s)\n",
    "        result = 0 \n",
    "        odd = False\n",
    "        for counts in unique.values(): \n",
    "            if not odd and counts % 2 ==1: \n",
    "                odd = True\n",
    "            result += counts // 2 * 2\n",
    "        \n",
    "        return result + odd\n",
    "# 75.96%, 70.43%"
   ]
  }
 ],
 "metadata": {
  "language_info": {
   "name": "python"
  },
  "orig_nbformat": 4
 },
 "nbformat": 4,
 "nbformat_minor": 2
}
