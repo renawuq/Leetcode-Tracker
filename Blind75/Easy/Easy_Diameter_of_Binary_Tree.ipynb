{
 "cells": [
  {
   "cell_type": "markdown",
   "metadata": {},
   "source": [
    "### Q21. Diameter of Binary Tree (543)\n",
    "\n",
    "https://leetcode.com/problems/diameter-of-binary-tree/description/\n",
    "\n",
    "Given the root of a binary tree, return the length of the diameter of the tree.\n",
    "\n",
    "The diameter of a binary tree is the length of the longest path between any two nodes in a tree. This path may or may not pass through the root.\n",
    "\n",
    "The length of a path between two nodes is represented by the number of edges between them.\n",
    "\n",
    "\n",
    "#### *Idea*\n",
    "1. Use DFS to find the leave of the tree (height = 0) and their diameter will be 0. \n",
    "2. Have a map (node, diameter) to keep track of the diameter of each node from the tree. Note that the diameter = left height + right height\n",
    "3. Return the maximum map.values() => maximum diameter "
   ]
  },
  {
   "cell_type": "code",
   "execution_count": null,
   "metadata": {},
   "outputs": [],
   "source": [
    "# Definition for a binary tree node.\n",
    "# class TreeNode:\n",
    "#     def __init__(self, val=0, left=None, right=None):\n",
    "#         self.val = val\n",
    "#         self.left = left\n",
    "#         self.right = right\n",
    "class Solution:\n",
    "    def diameterOfBinaryTree(self, root: Optional[TreeNode]) -> int:\n",
    "        track = {} # {node : diamater}\n",
    "        def getDiam(node): \n",
    "            if node is None: \n",
    "                return 0 \n",
    "            left_height = getDiam(node.left)\n",
    "            right_height = getDiam(node.right)\n",
    "            current_height = left_height + right_height\n",
    "            track[node] = current_height\n",
    "            return 1 + max(left_height, right_height)\n",
    "        getDiam(root)\n",
    "        return max(track.values())\n",
    "# 24.03%, 7.85% "
   ]
  },
  {
   "cell_type": "markdown",
   "metadata": {},
   "source": [
    "We can get ride of the map as we only needed the maximum value at the end. "
   ]
  },
  {
   "cell_type": "code",
   "execution_count": null,
   "metadata": {},
   "outputs": [],
   "source": [
    "# Definition for a binary tree node.\n",
    "# class TreeNode:\n",
    "#     def __init__(self, val=0, left=None, right=None):\n",
    "#         self.val = val\n",
    "#         self.left = left\n",
    "#         self.right = right\n",
    "class Solution:\n",
    "    def diameterOfBinaryTree(self, root: Optional[TreeNode]) -> int:\n",
    "        self.track = 0 \n",
    "        def getDiam(node): \n",
    "            if node is None: \n",
    "                return 0 \n",
    "            left_height = getDiam(node.left)\n",
    "            right_height = getDiam(node.right)\n",
    "            current_height = left_height + right_height\n",
    "            self.track = max(self.track, current_height)\n",
    "            return 1 + max(left_height, right_height)\n",
    "        getDiam(root)\n",
    "        return self.track\n",
    "# 81.69%, 18.07%"
   ]
  },
  {
   "cell_type": "markdown",
   "metadata": {},
   "source": [
    "We can also use this via stack, so no recusion in this case. \n",
    "\n",
    "1. Use stack stored the node and marked their visit status. \n",
    "2. Use map to store the diameter for each node. \n",
    "3. For each node pop from the stack, if it has been marked as visit, meaning all its child node has been visit and we have the height of this node. \n",
    "4. If the node has not been visit, mark it as visit and append this node, node.left and node.right to the stack. And its child node: node.left and node.right will be process first. "
   ]
  },
  {
   "cell_type": "code",
   "execution_count": null,
   "metadata": {},
   "outputs": [],
   "source": [
    "# Definition for a binary tree node.\n",
    "# class TreeNode:\n",
    "#     def __init__(self, val=0, left=None, right=None):\n",
    "#         self.val = val\n",
    "#         self.left = left\n",
    "#         self.right = right\n",
    "class Solution:\n",
    "    def diameterOfBinaryTree(self, root: Optional[TreeNode]) -> int:\n",
    "        height = {}\n",
    "        result = 0 \n",
    "        track = [(root, False)]\n",
    "        while track: \n",
    "            node, visit = track.pop()\n",
    "            if node: \n",
    "                if visit: \n",
    "                    left_height = height.get(node.left, 0)\n",
    "                    right_height = height.get(node.right,0)\n",
    "                    current_height = left_height + right_height\n",
    "                    height[node] = 1 + max(left_height, right_height)\n",
    "                    \n",
    "                    result = max(result, current_height)\n",
    "                else: \n",
    "                    track.append((node, True))\n",
    "                    track.append((node.left, False))\n",
    "                    track.append((node.right, False))\n",
    "        return result\n",
    "# 81.69%, 7.85%"
   ]
  }
 ],
 "metadata": {
  "language_info": {
   "name": "python"
  },
  "orig_nbformat": 4
 },
 "nbformat": 4,
 "nbformat_minor": 2
}
