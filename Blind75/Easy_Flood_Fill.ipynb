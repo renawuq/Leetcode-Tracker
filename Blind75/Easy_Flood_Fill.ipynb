{
 "cells": [
  {
   "cell_type": "markdown",
   "metadata": {},
   "source": [
    "### Q9. Flood Fill (733)\n",
    "\n",
    "https://leetcode.com/problems/flood-fill/description/\n",
    "\n",
    "You are given an image represented by an m x n grid of integers image, where image[i][j] represents the pixel value of the image. You are also given three integers sr, sc, and color. Your task is to perform a flood fill on the image starting from the pixel image[sr][sc].\n",
    "\n",
    "To perform a flood fill:\n",
    "\n",
    "Begin with the starting pixel and change its color to color.\n",
    "Perform the same process for each pixel that is directly adjacent (pixels that share a side with the original pixel, either horizontally or vertically) and shares the same color as the starting pixel.\n",
    "Keep repeating this process by checking neighboring pixels of the updated pixels and modifying their color if it matches the original color of the starting pixel.\n",
    "The process stops when there are no more adjacent pixels of the original color to update.\n",
    "Return the modified image after performing the flood fill.\n",
    "\n",
    "#### *Idea*\n",
    "1. Using BFS can help us find all the directly adjacent node and check if their color match. If match, we will update the cell. "
   ]
  },
  {
   "cell_type": "code",
   "execution_count": null,
   "metadata": {},
   "outputs": [],
   "source": [
    "class Solution:\n",
    "    def floodFill(self, image: List[List[int]], sr: int, sc: int, color: int) -> List[List[int]]:\n",
    "        target_color = image[sr][sc]\n",
    "        if color == target_color:\n",
    "            return image \n",
    "        # bfs \n",
    "        def helper(i,j, target):\n",
    "            if i >= 0 and i < len(image) and j >= 0 and j < len(image[0]): \n",
    "                if image[i][j] == target: \n",
    "                    image[i][j] = color\n",
    "                    helper(i-1, j, target)\n",
    "                    helper(i, j-1, target)\n",
    "                    helper(i+1, j, target)\n",
    "                    helper(i, j+1, target)\n",
    "        \n",
    "        helper(sr, sc, target_color)\n",
    "        return image\n",
    "# 74.49%, 23.68%"
   ]
  },
  {
   "cell_type": "markdown",
   "metadata": {},
   "source": [
    "If we don't want to use recursion, we can use for loop to work on the same question. "
   ]
  },
  {
   "cell_type": "code",
   "execution_count": null,
   "metadata": {},
   "outputs": [],
   "source": [
    "class Solution:\n",
    "    def floodFill(self, image: List[List[int]], sr: int, sc: int, color: int) -> List[List[int]]:\n",
    "        target_color = image[sr][sc]\n",
    "        if color == target_color:\n",
    "            return image \n",
    "        # use queue \n",
    "        queue = deque([(sr,sc)])\n",
    "        direction = [(-1,0),(0,-1),(0,1),(1,0)]\n",
    "        while queue: \n",
    "            a,b = queue.popleft()\n",
    "            if image[a][b] == target_color:\n",
    "                image[a][b] = color\n",
    "                for da,db in direction:\n",
    "                    nx = a+da\n",
    "                    ny = b+db\n",
    "                    if 0 <= nx < len(image) and 0<=ny <len(image[0]): \n",
    "                        queue.append((nx,ny))\n",
    "        return image\n",
    "# 83.31%， 76.65%"
   ]
  }
 ],
 "metadata": {
  "kernelspec": {
   "display_name": "Python 3",
   "language": "python",
   "name": "python3"
  },
  "language_info": {
   "codemirror_mode": {
    "name": "ipython",
    "version": 3
   },
   "file_extension": ".py",
   "mimetype": "text/x-python",
   "name": "python",
   "nbconvert_exporter": "python",
   "pygments_lexer": "ipython3",
   "version": "3.11.10"
  },
  "orig_nbformat": 4
 },
 "nbformat": 4,
 "nbformat_minor": 2
}
