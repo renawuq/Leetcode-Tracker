{
 "cells": [
  {
   "cell_type": "markdown",
   "metadata": {},
   "source": [
    "### Q12. Linked List Cycle (141)\n",
    "\n",
    "https://leetcode.com/problems/linked-list-cycle/description/\n",
    "\n",
    "Given head, the head of a linked list, determine if the linked list has a cycle in it.\n",
    "\n",
    "There is a cycle in a linked list if there is some node in the list that can be reached again by continuously following the next pointer. Internally, pos is used to denote the index of the node that tail's next pointer is connected to. Note that pos is not passed as a parameter.\n",
    "\n",
    "Return true if there is a cycle in the linked list. Otherwise, return false.\n",
    "\n",
    "#### *Idea*\n",
    "1. One very easy way is to keep track of the node by appending those node into the stack.\n",
    "2. Once the current node is exist in the stack, we know there is a cycle and thus return True "
   ]
  },
  {
   "cell_type": "code",
   "execution_count": null,
   "metadata": {
    "vscode": {
     "languageId": "plaintext"
    }
   },
   "outputs": [],
   "source": [
    "# Definition for singly-linked list.\n",
    "# class ListNode:\n",
    "#     def __init__(self, x):\n",
    "#         self.val = x\n",
    "#         self.next = None\n",
    "\n",
    "class Solution:\n",
    "    def hasCycle(self, head: Optional[ListNode]) -> bool:\n",
    "        stack = []\n",
    "        while head: \n",
    "            if head in stack:\n",
    "                return True\n",
    "            stack.append(head)\n",
    "            head = head.next\n",
    "        return False \n",
    "# 5.19%, 69.15% "
   ]
  },
  {
   "cell_type": "markdown",
   "metadata": {},
   "source": [
    "How could you optimized it? \n",
    "\n",
    "We can also use Floyd's Cycle Finding algorithm, which means that we need 2 pointer, one fast and one slow, and they will eventually meet if there is a cycle. "
   ]
  },
  {
   "cell_type": "code",
   "execution_count": null,
   "metadata": {
    "vscode": {
     "languageId": "plaintext"
    }
   },
   "outputs": [],
   "source": [
    "# Definition for singly-linked list.\n",
    "# class ListNode:\n",
    "#     def __init__(self, x):\n",
    "#         self.val = x\n",
    "#         self.next = None\n",
    "\n",
    "class Solution:\n",
    "    def hasCycle(self, head: Optional[ListNode]) -> bool:\n",
    "        slow, fast = head, head \n",
    "        while fast and fast.next: \n",
    "            slow = slow.next\n",
    "            fast = fast.next.next \n",
    "            if slow == fast: \n",
    "                return True \n",
    "        return False \n",
    "# 24.76%, 68.15% "
   ]
  }
 ],
 "metadata": {
  "language_info": {
   "name": "python"
  },
  "orig_nbformat": 4
 },
 "nbformat": 4,
 "nbformat_minor": 2
}
