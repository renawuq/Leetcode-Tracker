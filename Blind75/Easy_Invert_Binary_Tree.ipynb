{
 "cells": [
  {
   "cell_type": "markdown",
   "metadata": {},
   "source": [
    "### Q6. Invert Binary Tree (226)\n",
    "\n",
    "https://leetcode.com/problems/invert-binary-tree/description/\n",
    "\n",
    "Given the root of a binary tree, invert the tree, and return its root.\n",
    "\n",
    "#### *Idea*\n",
    "1. For each node, we want to swap its left/right node.\n",
    "2. After swap the left and right child, continuous update the tree untill the node is None. "
   ]
  },
  {
   "cell_type": "code",
   "execution_count": null,
   "metadata": {},
   "outputs": [],
   "source": [
    "# Definition for a binary tree node.\n",
    "# class TreeNode:\n",
    "#     def __init__(self, val=0, left=None, right=None):\n",
    "#         self.val = val\n",
    "#         self.left = left\n",
    "#         self.right = right\n",
    "class Solution:\n",
    "    def invertTree(self, root: Optional[TreeNode]) -> Optional[TreeNode]:\n",
    "        if not root:\n",
    "            return root\n",
    "        value = root.left\n",
    "        root.left = root.right\n",
    "        root.right = value \n",
    "        root.left = self.invertTree(root.left)\n",
    "        root.right = self.invertTree(root.right)\n",
    "        return root\n",
    "# 27.04%, 19.71% "
   ]
  },
  {
   "cell_type": "markdown",
   "metadata": {},
   "source": [
    "If we want to optimaize our code, we could use recursive to get a list of left/right node. And we could update the tree directly from there. "
   ]
  },
  {
   "cell_type": "code",
   "execution_count": null,
   "metadata": {},
   "outputs": [],
   "source": [
    "# Definition for a binary tree node.\n",
    "# class TreeNode:\n",
    "#     def __init__(self, val=0, left=None, right=None):\n",
    "#         self.val = val\n",
    "#         self.left = left\n",
    "#         self.right = right\n",
    "class Solution:\n",
    "    def invertTree(self, root: Optional[TreeNode]) -> Optional[TreeNode]:\n",
    "        if not root:\n",
    "            return root\n",
    "        left = self.invertTree(root.left)\n",
    "        right= self.invertTree(root.right)\n",
    "        root.left = right\n",
    "        root.right = left\n",
    "        return root\n",
    "# 76.34%, 66.96%"
   ]
  }
 ],
 "metadata": {
  "language_info": {
   "name": "python"
  },
  "orig_nbformat": 4
 },
 "nbformat": 4,
 "nbformat_minor": 2
}
