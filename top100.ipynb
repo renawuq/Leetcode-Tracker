{
 "cells": [
  {
   "cell_type": "markdown",
   "metadata": {},
   "source": [
    "## TOP 100\n",
    "\n",
    "https://leetcode.com/problems/two-sum/description/\n",
    "\n",
    "### 1. Two Sum\n",
    "Given an array of integers nums and an integer target, return indices of the two numbers such that they add up to target.\n",
    "\n",
    "You may assume that each input would have exactly one solution, and you may not use the same element twice.\n",
    "\n",
    "You can return the answer in any order.\n",
    "\n",
    "Input: nums = [2,7,11,15], target = 9\n",
    "Output: [0,1]\n",
    "Explanation: Because nums[0] + nums[1] == 9, we return [0, 1]."
   ]
  },
  {
   "cell_type": "code",
   "execution_count": 1,
   "metadata": {},
   "outputs": [],
   "source": [
    "# brute force \n",
    "class Solution:\n",
    "    def twoSum(self, nums: List[int], target: int) -> List[int]:\n",
    "        need = 0 \n",
    "        for i in range (len(nums)): \n",
    "            need = target - nums[i] \n",
    "            for j in range(i+1, len(nums)):\n",
    "                if nums[j] == need: \n",
    "                    return [i, j]\n",
    "# 34.75%, 75.69% "
   ]
  },
  {
   "cell_type": "code",
   "execution_count": null,
   "metadata": {},
   "outputs": [],
   "source": [
    "# map \n",
    "class Solution:\n",
    "    def twoSum(self, nums: List[int], target: int) -> List[int]:\n",
    "        need = {}\n",
    "        for index, num in enumerate(nums):\n",
    "            compl = target - num \n",
    "            if compl in need:\n",
    "                return [need[compl], index]\n",
    "            need[num] = index\n",
    "        return 0\n",
    "# 76.36%, 30.44% "
   ]
  },
  {
   "cell_type": "markdown",
   "metadata": {},
   "source": [
    "### 2. LRU Cache (#146) \n",
    "\n",
    "https://leetcode.com/problems/lru-cache/description/\n",
    "\n",
    "Design a data structure that follows the constraints of a Least Recently Used (LRU) cache.\n",
    "\n",
    "Implement the LRUCache class:\n",
    "\n",
    "LRUCache(int capacity) Initialize the LRU cache with positive size capacity.\n",
    "int get(int key) Return the value of the key if the key exists, otherwise return -1.\n",
    "void put(int key, int value) Update the value of the key if the key exists. Otherwise, add the key-value pair to the cache. If the number of keys exceeds the capacity from this operation, evict the least recently used key.\n",
    "The functions get and put must each run in O(1) average time complexi"
   ]
  },
  {
   "cell_type": "code",
   "execution_count": null,
   "metadata": {
    "vscode": {
     "languageId": "javascript"
    }
   },
   "outputs": [],
   "source": [
    "class LRUCache:\n",
    "    # fixed size cache of key value pairs using doubly linked list and an unordered map\n",
    "    def __init__(self, capacity: int):\n",
    "        self.capacity = capacity\n",
    "        self.cache = OrderedDict()\n",
    "\n",
    "    def get(self, key: int) -> int:\n",
    "        if key not in self.cache:\n",
    "            return -1\n",
    "        value = self.cache.pop(key)\n",
    "        self.cache[key] = value\n",
    "        return value\n",
    "\n",
    "    def put(self, key: int, value: int) -> None:\n",
    "        if key in self.cache:\n",
    "            self.cache.pop(key)\n",
    "        elif len(self.cache) == self.capacity:\n",
    "            self.cache.popitem(last=False)\n",
    "        self.cache[key] = value\n",
    "\n",
    "\n",
    "# Your LRUCache object will be instantiated and called as such:\n",
    "# obj = LRUCache(capacity)\n",
    "# param_1 = obj.get(key)\n",
    "# obj.put(key,value)\n"
   ]
  },
  {
   "cell_type": "markdown",
   "metadata": {},
   "source": [
    "### 3. Merge Intervals (56)\n",
    "\n",
    "https://leetcode.com/problems/merge-intervals/description/\n",
    "\n",
    "Given an array of intervals where intervals[i] = [starti, endi], merge all overlapping intervals, and return an array of the non-overlapping intervals that cover all the intervals in the input.\n",
    "\n",
    " \n",
    "\n",
    "Example 1:\n",
    "\n",
    "Input: intervals = [[1,3],[2,6],[8,10],[15,18]]\n",
    "Output: [[1,6],[8,10],[15,18]]\n",
    "Explanation: Since intervals [1,3] and [2,6] overlap, merge them into [1,6].\n",
    "Example 2:\n",
    "\n",
    "Input: intervals = [[1,4],[4,5]]\n",
    "Output: [[1,5]]\n",
    "Explanation: Intervals [1,4] and [4,5] are considered overlapping.\n"
   ]
  },
  {
   "cell_type": "code",
   "execution_count": null,
   "metadata": {
    "vscode": {
     "languageId": "javascript"
    }
   },
   "outputs": [],
   "source": [
    "class Solution:\n",
    "    def merge(self, intervals: List[List[int]]) -> List[List[int]]:\n",
    "        result = []\n",
    "        # sort the intervals based on their first index value\n",
    "        intervals.sort(key=lambda x: x[0])\n",
    "        for x in intervals: \n",
    "            # append to it if result is empty or the first element is smaller than the result last one \n",
    "            if len(result) == 0 or x[0] > result[-1][1]:\n",
    "                result.append(x)\n",
    "            else:\n",
    "                # updated the second index value to the max of it \n",
    "                result[-1][1] = max(result[-1][1], x[1])\n",
    "        return result\n",
    "# 85.42%, 52.77% "
   ]
  },
  {
   "cell_type": "markdown",
   "metadata": {},
   "source": [
    "### 4. Number of Islands (200)\n",
    "\n",
    "https://leetcode.com/problems/number-of-islands/description/\n",
    "\n",
    "Given an m x n 2D binary grid grid which represents a map of '1's (land) and '0's (water), return the number of islands.\n",
    "\n",
    "An island is surrounded by water and is formed by connecting adjacent lands horizontally or vertically. You may assume all four edges of the grid are all surrounded by water.\n",
    "\n",
    "\n",
    "Example 1:\n",
    "\n",
    "Input: grid = [\n",
    "  [\"1\",\"1\",\"1\",\"1\",\"0\"],\n",
    "  [\"1\",\"1\",\"0\",\"1\",\"0\"],\n",
    "  [\"1\",\"1\",\"0\",\"0\",\"0\"],\n",
    "  [\"0\",\"0\",\"0\",\"0\",\"0\"]\n",
    "]\n",
    "Output: 1\n",
    "Example 2:\n",
    "\n",
    "Input: grid = [\n",
    "  [\"1\",\"1\",\"0\",\"0\",\"0\"],\n",
    "  [\"1\",\"1\",\"0\",\"0\",\"0\"],\n",
    "  [\"0\",\"0\",\"1\",\"0\",\"0\"],\n",
    "  [\"0\",\"0\",\"0\",\"1\",\"1\"]\n",
    "]\n",
    "Output: 3\n",
    " "
   ]
  },
  {
   "cell_type": "markdown",
   "metadata": {},
   "source": [
    "Idea: \n",
    "\n",
    "Consider all connected 1 as one island. Everytime you encounter a '1' from the matrix, mark it and do dfs based on the '1', mark all the '1' has been visit to '0' and add 1 island to our result. "
   ]
  },
  {
   "cell_type": "code",
   "execution_count": null,
   "metadata": {
    "vscode": {
     "languageId": "javascript"
    }
   },
   "outputs": [],
   "source": [
    "class Solution:\n",
    "    def numIslands(self, grid: List[List[str]]) -> int:\n",
    "        result = 0 # vaiable that we are plan to return \n",
    "        # declear dfs function, take the index of the position \n",
    "        def dfs (r,c): \n",
    "            # check if the current point is in the bound and if it is a '1' or '0'\n",
    "            # if it is a '0', we already visit it before. \n",
    "            if r < 0 or r >= len(grid) or c < 0 or c >= len(grid[0]) or grid[r][c] == '0': \n",
    "                return \n",
    "            grid[r][c] = '0'\n",
    "            dfs (r-1, c) # up\n",
    "            dfs (r+1, c) # down\n",
    "            dfs (r, c-1) # left\n",
    "            dfs (r, c+1) # right\n",
    "\n",
    "        # Iterate the whole matrix, checking if there is a '1': \n",
    "        for row in range (len(grid)):\n",
    "            for col in range (len(grid[0])):\n",
    "                if grid[row][col] == '1': \n",
    "                    dfs(row, col)\n",
    "                    result += 1\n",
    "        return result\n",
    "# 99.60%, 95.83% "
   ]
  },
  {
   "cell_type": "markdown",
   "metadata": {},
   "source": [
    "### Q5. Longest Substring Without Repeating Character (3)\n",
    "\n",
    "https://leetcode.com/problems/longest-substring-without-repeating-characters/description/\n",
    "\n",
    "Given a string s, find the length of the longest \n",
    "substring\n",
    " without repeating characters.\n",
    "\n",
    " \n",
    "\n",
    "Example 1:\n",
    "\n",
    "Input: s = \"abcabcbb\"\n",
    "Output: 3\n",
    "Explanation: The answer is \"abc\", with the length of 3.\n",
    "Example 2:\n",
    "\n",
    "Input: s = \"bbbbb\"\n",
    "Output: 1\n",
    "Explanation: The answer is \"b\", with the length of 1."
   ]
  },
  {
   "cell_type": "markdown",
   "metadata": {},
   "source": [
    "Idea: \n",
    "\n",
    "Question asked about **longest** **Substring**, so we should thnk about sliding window: \n",
    "\n",
    "When to update the left pointer? \n",
    "\n",
    "When there is repeated character found by right pointer, move left to the position of right pointer \n",
    "\n",
    "How? \n",
    "\n",
    "By Queue: use the idea first in first out, pop out the letter coming from the left pointer"
   ]
  },
  {
   "cell_type": "code",
   "execution_count": 2,
   "metadata": {
    "vscode": {
     "languageId": "javascript"
    }
   },
   "outputs": [],
   "source": [
    "class Solution:\n",
    "    def lengthOfLongestSubstring(self, s: str) -> int:\n",
    "        queue = []\n",
    "        result = 0 \n",
    "        left = 0 \n",
    "        for right in range(len(s)):\n",
    "            while s[right] in queue:\n",
    "                queue.pop(0)\n",
    "                left+=1 \n",
    "            queue.append(s[right])\n",
    "            result = max(result, right-left+1)\n",
    "        return result\n",
    "# 19.05%, 81.02% \n",
    "                "
   ]
  },
  {
   "cell_type": "markdown",
   "metadata": {},
   "source": [
    "Way tooo slow, try to use set! "
   ]
  },
  {
   "cell_type": "code",
   "execution_count": null,
   "metadata": {
    "vscode": {
     "languageId": "javascript"
    }
   },
   "outputs": [],
   "source": [
    "class Solution:\n",
    "    def lengthOfLongestSubstring(self, s: str) -> int:\n",
    "        unique = set()\n",
    "        result = 0 \n",
    "        left = 0 \n",
    "        for right in range(len(s)):\n",
    "            while s[right] in unique:\n",
    "                unique.remove(s[left])\n",
    "                left+=1 \n",
    "            unique.add(s[right])\n",
    "            result = max(result, right-left+1)\n",
    "        return result\n",
    "# 32.94, 95.26 "
   ]
  },
  {
   "cell_type": "markdown",
   "metadata": {},
   "source": [
    "Faster than before, but still slow, use dictionary! So we don't need to move the left pointer one by one! "
   ]
  },
  {
   "cell_type": "code",
   "execution_count": null,
   "metadata": {
    "vscode": {
     "languageId": "javascript"
    }
   },
   "outputs": [],
   "source": [
    "class Solution:\n",
    "    def lengthOfLongestSubstring(self, s: str) -> int:\n",
    "        unique = {}\n",
    "        result = 0 \n",
    "        left = 0 \n",
    "        for right in range(len(s)):\n",
    "            if s[right] in unique and unique[s[right]] >= left:\n",
    "                left = unique[s[right]] + 1 \n",
    "            unique[s[right]] = right\n",
    "            result = max(result, right-left+1)\n",
    "        return result\n",
    "# 80.96%, 40.6%"
   ]
  }
 ],
 "metadata": {
  "kernelspec": {
   "display_name": "Python 3",
   "language": "python",
   "name": "python3"
  },
  "language_info": {
   "codemirror_mode": {
    "name": "ipython",
    "version": 3
   },
   "file_extension": ".py",
   "mimetype": "text/x-python",
   "name": "python",
   "nbconvert_exporter": "python",
   "pygments_lexer": "ipython3",
   "version": "3.11.4"
  },
  "orig_nbformat": 4
 },
 "nbformat": 4,
 "nbformat_minor": 2
}
