{
 "cells": [
  {
   "cell_type": "markdown",
   "metadata": {},
   "source": [
    "## TOP 100\n",
    "\n",
    "https://leetcode.com/problems/two-sum/description/\n",
    "\n",
    "### Q1. Two Sum\n",
    "Given an array of integers nums and an integer target, return indices of the two numbers such that they add up to target.\n",
    "\n",
    "You may assume that each input would have exactly one solution, and you may not use the same element twice.\n",
    "\n",
    "You can return the answer in any order.\n",
    "\n",
    "Input: nums = [2,7,11,15], target = 9\n",
    "Output: [0,1]\n",
    "Explanation: Because nums[0] + nums[1] == 9, we return [0, 1]."
   ]
  },
  {
   "cell_type": "code",
   "execution_count": 1,
   "metadata": {},
   "outputs": [],
   "source": [
    "# brute force \n",
    "class Solution:\n",
    "    def twoSum(self, nums: List[int], target: int) -> List[int]:\n",
    "        need = 0 \n",
    "        for i in range (len(nums)): \n",
    "            need = target - nums[i] \n",
    "            for j in range(i+1, len(nums)):\n",
    "                if nums[j] == need: \n",
    "                    return [i, j]\n",
    "# 34.75%, 75.69% "
   ]
  },
  {
   "cell_type": "code",
   "execution_count": null,
   "metadata": {},
   "outputs": [],
   "source": [
    "# map \n",
    "class Solution:\n",
    "    def twoSum(self, nums: List[int], target: int) -> List[int]:\n",
    "        need = {}\n",
    "        for index, num in enumerate(nums):\n",
    "            compl = target - num \n",
    "            if compl in need:\n",
    "                return [need[compl], index]\n",
    "            need[num] = index\n",
    "        return 0\n",
    "# 76.36%, 30.44% "
   ]
  },
  {
   "cell_type": "markdown",
   "metadata": {},
   "source": [
    "### Q2. LRU Cache (#146) \n",
    "\n",
    "https://leetcode.com/problems/lru-cache/description/\n",
    "\n",
    "Design a data structure that follows the constraints of a Least Recently Used (LRU) cache.\n",
    "\n",
    "Implement the LRUCache class:\n",
    "\n",
    "LRUCache(int capacity) Initialize the LRU cache with positive size capacity.\n",
    "int get(int key) Return the value of the key if the key exists, otherwise return -1.\n",
    "void put(int key, int value) Update the value of the key if the key exists. Otherwise, add the key-value pair to the cache. If the number of keys exceeds the capacity from this operation, evict the least recently used key.\n",
    "The functions get and put must each run in O(1) average time complexi"
   ]
  },
  {
   "cell_type": "code",
   "execution_count": null,
   "metadata": {
    "vscode": {
     "languageId": "javascript"
    }
   },
   "outputs": [],
   "source": [
    "class LRUCache:\n",
    "    # fixed size cache of key value pairs using doubly linked list and an unordered map\n",
    "    def __init__(self, capacity: int):\n",
    "        self.capacity = capacity\n",
    "        self.cache = OrderedDict()\n",
    "\n",
    "    def get(self, key: int) -> int:\n",
    "        if key not in self.cache:\n",
    "            return -1\n",
    "        value = self.cache.pop(key)\n",
    "        self.cache[key] = value\n",
    "        return value\n",
    "\n",
    "    def put(self, key: int, value: int) -> None:\n",
    "        if key in self.cache:\n",
    "            self.cache.pop(key)\n",
    "        elif len(self.cache) == self.capacity:\n",
    "            self.cache.popitem(last=False)\n",
    "        self.cache[key] = value\n",
    "\n",
    "\n",
    "# Your LRUCache object will be instantiated and called as such:\n",
    "# obj = LRUCache(capacity)\n",
    "# param_1 = obj.get(key)\n",
    "# obj.put(key,value)\n"
   ]
  },
  {
   "cell_type": "markdown",
   "metadata": {},
   "source": [
    "### Q3. Merge Intervals (56)\n",
    "\n",
    "https://leetcode.com/problems/merge-intervals/description/\n",
    "\n",
    "Given an array of intervals where intervals[i] = [starti, endi], merge all overlapping intervals, and return an array of the non-overlapping intervals that cover all the intervals in the input.\n",
    "\n",
    " \n",
    "\n",
    "Example 1:\n",
    "\n",
    "Input: intervals = [[1,3],[2,6],[8,10],[15,18]]\n",
    "Output: [[1,6],[8,10],[15,18]]\n",
    "Explanation: Since intervals [1,3] and [2,6] overlap, merge them into [1,6].\n",
    "Example 2:\n",
    "\n",
    "Input: intervals = [[1,4],[4,5]]\n",
    "Output: [[1,5]]\n",
    "Explanation: Intervals [1,4] and [4,5] are considered overlapping.\n"
   ]
  },
  {
   "cell_type": "code",
   "execution_count": null,
   "metadata": {
    "vscode": {
     "languageId": "javascript"
    }
   },
   "outputs": [],
   "source": [
    "class Solution:\n",
    "    def merge(self, intervals: List[List[int]]) -> List[List[int]]:\n",
    "        result = []\n",
    "        # sort the intervals based on their first index value\n",
    "        intervals.sort(key=lambda x: x[0])\n",
    "        for x in intervals: \n",
    "            # append to it if result is empty or the first element is smaller than the result last one \n",
    "            if len(result) == 0 or x[0] > result[-1][1]:\n",
    "                result.append(x)\n",
    "            else:\n",
    "                # updated the second index value to the max of it \n",
    "                result[-1][1] = max(result[-1][1], x[1])\n",
    "        return result\n",
    "# 85.42%, 52.77% "
   ]
  },
  {
   "cell_type": "markdown",
   "metadata": {},
   "source": [
    "### Q4. Number of Islands (200)\n",
    "\n",
    "https://leetcode.com/problems/number-of-islands/description/\n",
    "\n",
    "Given an m x n 2D binary grid grid which represents a map of '1's (land) and '0's (water), return the number of islands.\n",
    "\n",
    "An island is surrounded by water and is formed by connecting adjacent lands horizontally or vertically. You may assume all four edges of the grid are all surrounded by water.\n",
    "\n",
    "\n",
    "Example 1:\n",
    "\n",
    "Input: grid = [\n",
    "  [\"1\",\"1\",\"1\",\"1\",\"0\"],\n",
    "  [\"1\",\"1\",\"0\",\"1\",\"0\"],\n",
    "  [\"1\",\"1\",\"0\",\"0\",\"0\"],\n",
    "  [\"0\",\"0\",\"0\",\"0\",\"0\"]\n",
    "]\n",
    "Output: 1\n",
    "Example 2:\n",
    "\n",
    "Input: grid = [\n",
    "  [\"1\",\"1\",\"0\",\"0\",\"0\"],\n",
    "  [\"1\",\"1\",\"0\",\"0\",\"0\"],\n",
    "  [\"0\",\"0\",\"1\",\"0\",\"0\"],\n",
    "  [\"0\",\"0\",\"0\",\"1\",\"1\"]\n",
    "]\n",
    "Output: 3\n",
    " "
   ]
  },
  {
   "cell_type": "markdown",
   "metadata": {},
   "source": [
    "#### *Idea*: \n",
    "\n",
    "Consider all connected 1 as one island. Everytime you encounter a '1' from the matrix, mark it and do dfs based on the '1', mark all the '1' has been visit to '0' and add 1 island to our result. "
   ]
  },
  {
   "cell_type": "code",
   "execution_count": null,
   "metadata": {
    "vscode": {
     "languageId": "javascript"
    }
   },
   "outputs": [],
   "source": [
    "class Solution:\n",
    "    def numIslands(self, grid: List[List[str]]) -> int:\n",
    "        result = 0 # vaiable that we are plan to return \n",
    "        # declear dfs function, take the index of the position \n",
    "        def dfs (r,c): \n",
    "            # check if the current point is in the bound and if it is a '1' or '0'\n",
    "            # if it is a '0', we already visit it before. \n",
    "            if r < 0 or r >= len(grid) or c < 0 or c >= len(grid[0]) or grid[r][c] == '0': \n",
    "                return \n",
    "            grid[r][c] = '0'\n",
    "            dfs (r-1, c) # up\n",
    "            dfs (r+1, c) # down\n",
    "            dfs (r, c-1) # left\n",
    "            dfs (r, c+1) # right\n",
    "\n",
    "        # Iterate the whole matrix, checking if there is a '1': \n",
    "        for row in range (len(grid)):\n",
    "            for col in range (len(grid[0])):\n",
    "                if grid[row][col] == '1': \n",
    "                    dfs(row, col)\n",
    "                    result += 1\n",
    "        return result\n",
    "# 99.60%, 95.83% "
   ]
  },
  {
   "cell_type": "markdown",
   "metadata": {},
   "source": [
    "### Q5. Longest Substring Without Repeating Character (3)\n",
    "\n",
    "https://leetcode.com/problems/longest-substring-without-repeating-characters/description/\n",
    "\n",
    "Given a string s, find the length of the longest \n",
    "substring without repeating characters.\n",
    "\n",
    " \n",
    "\n",
    "Example 1:\n",
    "\n",
    "Input: s = \"abcabcbb\"\n",
    "Output: 3\n",
    "Explanation: The answer is \"abc\", with the length of 3.\n",
    "Example 2:\n",
    "\n",
    "Input: s = \"bbbbb\"\n",
    "Output: 1\n",
    "Explanation: The answer is \"b\", with the length of 1."
   ]
  },
  {
   "cell_type": "markdown",
   "metadata": {},
   "source": [
    "#### *Idea*: \n",
    "\n",
    "Question asked about **longest** **Substring**, so we should thnk about sliding window: \n",
    "\n",
    "When to update the left pointer? \n",
    "\n",
    "When there is repeated character found by right pointer, move left to the position of right pointer \n",
    "\n",
    "How? \n",
    "\n",
    "By Queue: use the idea first in first out, pop out the letter coming from the left pointer"
   ]
  },
  {
   "cell_type": "code",
   "execution_count": 2,
   "metadata": {
    "vscode": {
     "languageId": "javascript"
    }
   },
   "outputs": [],
   "source": [
    "class Solution:\n",
    "    def lengthOfLongestSubstring(self, s: str) -> int:\n",
    "        queue = []\n",
    "        result = 0 \n",
    "        left = 0 \n",
    "        for right in range(len(s)):\n",
    "            while s[right] in queue:\n",
    "                queue.pop(0)\n",
    "                left+=1 \n",
    "            queue.append(s[right])\n",
    "            result = max(result, right-left+1)\n",
    "        return result\n",
    "# 19.05%, 81.02% \n",
    "                "
   ]
  },
  {
   "cell_type": "markdown",
   "metadata": {},
   "source": [
    "Way tooo slow, try to use set! "
   ]
  },
  {
   "cell_type": "code",
   "execution_count": null,
   "metadata": {
    "vscode": {
     "languageId": "javascript"
    }
   },
   "outputs": [],
   "source": [
    "class Solution:\n",
    "    def lengthOfLongestSubstring(self, s: str) -> int:\n",
    "        unique = set()\n",
    "        result = 0 \n",
    "        left = 0 \n",
    "        for right in range(len(s)):\n",
    "            while s[right] in unique:\n",
    "                unique.remove(s[left])\n",
    "                left+=1 \n",
    "            unique.add(s[right])\n",
    "            result = max(result, right-left+1)\n",
    "        return result\n",
    "# 32.94, 95.26 "
   ]
  },
  {
   "cell_type": "markdown",
   "metadata": {},
   "source": [
    "Faster than before, but still slow, use dictionary! So we don't need to move the left pointer one by one! "
   ]
  },
  {
   "cell_type": "code",
   "execution_count": null,
   "metadata": {
    "vscode": {
     "languageId": "javascript"
    }
   },
   "outputs": [],
   "source": [
    "class Solution:\n",
    "    def lengthOfLongestSubstring(self, s: str) -> int:\n",
    "        unique = {}\n",
    "        result = 0 \n",
    "        left = 0 \n",
    "        for right in range(len(s)):\n",
    "            if s[right] in unique and unique[s[right]] >= left:\n",
    "                left = unique[s[right]] + 1 \n",
    "            unique[s[right]] = right\n",
    "            result = max(result, right-left+1)\n",
    "        return result\n",
    "# 80.96%, 40.6%"
   ]
  },
  {
   "cell_type": "markdown",
   "metadata": {},
   "source": [
    "### Q6. Kth Largest Element in an Array\n",
    "\n",
    "Given an integer array nums and an integer k, return the kth largest element in the array.\n",
    "\n",
    "Note that it is the kth largest element in the sorted order, not the kth distinct element.\n",
    "\n",
    "Can you solve it without sorting? \n",
    "\n",
    "#### Input: nums = [3,2,1,5,6,4], k = 2\n",
    "Output: 5"
   ]
  },
  {
   "cell_type": "markdown",
   "metadata": {},
   "source": [
    "Sorted first and get the kth element: "
   ]
  },
  {
   "cell_type": "code",
   "execution_count": null,
   "metadata": {
    "vscode": {
     "languageId": "javascript"
    }
   },
   "outputs": [],
   "source": [
    "# Q6 \n",
    "class Solution:\n",
    "    def findKthLargest(self, nums: List[int], k:int) -> int: \n",
    "        nums.sort()\n",
    "        return nums[-k]\n",
    "# 59.69%, 31.75%"
   ]
  },
  {
   "cell_type": "markdown",
   "metadata": {},
   "source": [
    "Works! But that's cheating. Let's thnk about some solution without sorting. \n",
    "\n",
    "Min-heap: \n",
    "\n",
    "Create a heap that contains only k elements. As the min-heap will also store the smallest value in the root, by processing the entire array, we will eventually get the kth largest number. "
   ]
  },
  {
   "cell_type": "code",
   "execution_count": null,
   "metadata": {
    "vscode": {
     "languageId": "javascript"
    }
   },
   "outputs": [],
   "source": [
    "# Min - heaps: \n",
    "import heapq\n",
    "class Solution:\n",
    "    def findKthLargest(self, nums: List[int], k: int) -> int:\n",
    "        # create list only contain the first k element from array \n",
    "        heap = nums[:k]\n",
    "        # make it to min-heap:\n",
    "        heapq.heapify(heap)\n",
    "\n",
    "        # update the min-heap by the remaining number in the array \n",
    "        for x in nums[k:]: \n",
    "            if heap[0] < x: \n",
    "                heapq.heappop(heap)\n",
    "                heapq.heappush(heap, x)\n",
    "        return heap[0]\n",
    "# 86.19%, 84.91% "
   ]
  },
  {
   "cell_type": "markdown",
   "metadata": {},
   "source": [
    "### Q7. Trapping Rain Water (42)\n",
    "\n",
    "https://leetcode.com/problems/trapping-rain-water/description/\n",
    "\n",
    "Given n non-negative integers representing an elevation map where the width of each bar is 1, compute how much water it can trap after raining.\n",
    "\n",
    "Input: height = [0,1,0,2,1,0,1,3,2,1,2,1]\n",
    "Output: 6\n",
    "Explanation: The above elevation map (black section) is represented by array [0,1,0,2,1,0,1,3,2,1,2,1]. In this case, 6 units of rain water (blue section) are being trapped.\n"
   ]
  },
  {
   "cell_type": "markdown",
   "metadata": {},
   "source": [
    "#### *Idea*: \n",
    "\n",
    "By obsering the problem, we would notice that the rain water get trap depend on the left and right block around it. But the immediate block is not enough (i.e: i-1 / i+1) since it would also depend on the outer range if the outer range is higher than the inner range (i.e: i-2/i+2) is bigger than (i-1/i+1). \n",
    "\n",
    "So, we want set the current index as our goal and find how many water get trap in the current index by checking the maximum value of its left and its right. Since the maximum water get trap depend on the smaller value. We should find min(max_left, max_right). And use this result - height[index]"
   ]
  },
  {
   "cell_type": "code",
   "execution_count": null,
   "metadata": {
    "vscode": {
     "languageId": "javascript"
    }
   },
   "outputs": [],
   "source": [
    "class Solution:\n",
    "    def trap(self, height: List[int]) -> int:\n",
    "        left_max, right_max = 0,0 \n",
    "        result = 0\n",
    "        for index in range (len(height)): \n",
    "            if index == 0: \n",
    "                left_max = 0\n",
    "            else:\n",
    "                left_max = max(height[:index])\n",
    "            right_max = max(height[index:])\n",
    "            temp = min(left_max, right_max)-height[index]\n",
    "            if temp > 0:\n",
    "                result += temp\n",
    "        return result\n",
    "# It works for 322/323 cases, but it is not effiency enough. "
   ]
  },
  {
   "cell_type": "markdown",
   "metadata": {},
   "source": [
    "The main problem is that max(xxxx) is runing for O(n) so the total run time become O(n^2). So we could come up a solution to solve this issue. That's instead of using max() function, try to find the max of left and right side separate by using 2 for loop and calculate the trap water by another for loop! "
   ]
  },
  {
   "cell_type": "code",
   "execution_count": null,
   "metadata": {
    "vscode": {
     "languageId": "javascript"
    }
   },
   "outputs": [],
   "source": [
    "class Solution: \n",
    "    def trap(self, height: List[int]) -> int:\n",
    "        left_max = [0]*len(height)\n",
    "        right_max = [0]*len(height)\n",
    "        left_max[0]=height[0]\n",
    "        right_max[len(height)-1] = height[len(height)-1]\n",
    "\n",
    "        # get left_max at each index: \n",
    "        for index in range (1, len(height)):\n",
    "            left_max[index] = max(height[index], left_max[index-1])\n",
    "        \n",
    "        # get right max at each index: \n",
    "        for index in range (len(height)-2,-1,-1): # n-2: starting point of the loop, -1:stopping when <0, -1: loop decrease by 1\n",
    "            right_max[index] = max(height[index], right_max[index+1])\n",
    "        \n",
    "        result = 0\n",
    "        # get result! \n",
    "        for index in range(len(height)): \n",
    "            result += min(left_max[index], right_max[index]) - height[index]\n",
    "\n",
    "        return result\n",
    "# 17.73%, 42.49%"
   ]
  },
  {
   "cell_type": "markdown",
   "metadata": {},
   "source": [
    "It works! But it still running slowly (due to my laptop, it should run super fast and it take O(n) time). Now, let's try to use 2 pointer so we could get rid of the pointer!"
   ]
  },
  {
   "cell_type": "code",
   "execution_count": null,
   "metadata": {
    "vscode": {
     "languageId": "javascript"
    }
   },
   "outputs": [],
   "source": [
    "class Solution: \n",
    "    def trap(self, height: List[int]) -> int:\n",
    "        left, right = 0, len(height)-1\n",
    "        left_max, right_max = height[left], height[right]\n",
    "        result = 0\n",
    "        while left < right: \n",
    "            if height[left] < height[right]:\n",
    "                left+=1\n",
    "                left_max = max(left_max, height[left])\n",
    "                result += left_max-height[left]\n",
    "            else:\n",
    "                right -= 1 \n",
    "                right_max = max(right_max, height[right])\n",
    "                result += right_max - height[right]\n",
    "        return result \n",
    "# 47.18%, 98.56%"
   ]
  },
  {
   "cell_type": "markdown",
   "metadata": {},
   "source": [
    "### Q8 Group Anagrams (49)\n",
    "\n",
    "https://leetcode.com/problems/group-anagrams/\n",
    "\n",
    "Given an array of strings strs, group the \n",
    "anagrams together. You can return the answer in any order.\n",
    "\n",
    "\n",
    "Example 1:\n",
    "\n",
    "Input: strs = [\"eat\",\"tea\",\"tan\",\"ate\",\"nat\",\"bat\"]\n",
    "\n",
    "Output: [[\"bat\"],[\"nat\",\"tan\"],[\"ate\",\"eat\",\"tea\"]]\n",
    "\n",
    "Explanation:\n",
    "\n",
    "There is no string in strs that can be rearranged to form \"bat\".\n",
    "The strings \"nat\" and \"tan\" are anagrams as they can be rearranged to form each other.\n",
    "The strings \"ate\", \"eat\", and \"tea\" are anagrams as they can be rearranged to form each other."
   ]
  },
  {
   "cell_type": "markdown",
   "metadata": {},
   "source": [
    "#### *Idea*\n",
    "\n",
    "The most important part for this problem is find the anagrams of the string. Noticed that string are anagrams means that two string are equal to each other after sorting. \n",
    "\n",
    "Thus, we could go through the whole list of string, using hashtable to store the string after sorting. Key would be the string after sorting and value would be the list of array of the original string\n",
    "\n",
    "After that, everytime you see a key from hashtable, we know there are anagrams and thus group them together. \n"
   ]
  },
  {
   "cell_type": "code",
   "execution_count": null,
   "metadata": {
    "vscode": {
     "languageId": "javascript"
    }
   },
   "outputs": [],
   "source": [
    "class Solution:\n",
    "    def groupAnagrams(self, strs:List[str]) -> List[List[str]]:\n",
    "        # get a hashtable, store all the string after sorted in the table\n",
    "        str_hash = {}\n",
    "        for x in strs: \n",
    "            # noticed that sorted(x) will return a list and list is mutable => can't be used as key \n",
    "            # convert the list to tuple so it would work as a key \n",
    "            temp = tuple(sorted(x))\n",
    "            if temp not in str_hash:\n",
    "                str_hash[temp] = [x]\n",
    "            else:\n",
    "                str_hash[temp].append(x)\n",
    "        # Noticed you can't return str_hash(table), you should return all the values in table as list\n",
    "        return list(str_hash.values())\n",
    "\n",
    "# 61.25%, 52.47%: should be must faster than this, it is slow due to my labtop"
   ]
  },
  {
   "cell_type": "markdown",
   "metadata": {},
   "source": [
    "### Q9. Valid Parentheses (20)\n",
    "\n",
    "https://leetcode.com/problems/valid-parentheses/description/\n",
    "\n",
    "Given a string s containing just the characters '(', ')', '{', '}', '[' and ']', determine if the input string is valid.\n",
    "\n",
    "An input string is valid if:\n",
    "\n",
    "Open brackets must be closed by the same type of brackets.\n",
    "Open brackets must be closed in the correct order.\n",
    "Every close bracket has a corresponding open bracket of the same type.\n",
    "\n",
    "Example: \n",
    "\n",
    "s = \"{()}\" => True\n",
    "\n",
    "s = \"[(])\" => False\n",
    "\n",
    "#### *Idea*\n",
    "\n",
    "The key point of this question is that: \n",
    "\n",
    "1. Number of open / close brackets must match\n",
    "\n",
    "2. The outer brackets should be close at the end while the inner brackets should be close very early. \n",
    "\n",
    "Since stack is FILC (first in last out), last in first out, we should use stack to keep track out the result of our brackets. \n",
    "\n",
    "But insert open bracket into the stack is hard to keep track of the close bracket! We should insert a close bracket into the stack when we read a open bracket. So whenever we need to pop the bracket, we get to know if they are match! "
   ]
  },
  {
   "cell_type": "code",
   "execution_count": null,
   "metadata": {
    "vscode": {
     "languageId": "javascript"
    }
   },
   "outputs": [],
   "source": [
    "class Solution:\n",
    "    def isValid(self, s:str) -> bool:\n",
    "        stack = []\n",
    "        for substr in s: \n",
    "            if substr == '(':\n",
    "                stack.append(')')\n",
    "            elif substr == '{':\n",
    "                stack.append('}')\n",
    "            elif substr == '[':\n",
    "                stack.append(']')\n",
    "            # must be close bracket\n",
    "            else: \n",
    "                if stack: \n",
    "                    if stack.pop() != substr:\n",
    "                        return False\n",
    "                else:\n",
    "                    return False\n",
    "        # make sure your stack is empty, otherwise, \"{\" will return True while it is False\n",
    "        if stack: \n",
    "            return False\n",
    "        return True\n",
    "# 76.80%, 89.98%"
   ]
  },
  {
   "cell_type": "markdown",
   "metadata": {},
   "source": [
    "Seems like it is a little bit too long, let combine map and stack so we would write shorter code."
   ]
  },
  {
   "cell_type": "code",
   "execution_count": null,
   "metadata": {
    "vscode": {
     "languageId": "javascript"
    }
   },
   "outputs": [],
   "source": [
    "class Solution:\n",
    "    def isValid(self, s:str) -> bool:\n",
    "        map = {'(': ')', '{': '}', '[':']'}\n",
    "        stack = []\n",
    "        for substr in s:\n",
    "            if substr in map:  # If it's an opening bracket\n",
    "                stack.append(map[substr])  # Push the corresponding closing bracket onto the stack\n",
    "            else:\n",
    "                # If it's a closing bracket, check if it matches the top of the stack\n",
    "                if not stack or stack.pop() != substr:\n",
    "                    return False\n",
    "        return not stack\n",
    "# 66.67%, 51.28%"
   ]
  },
  {
   "cell_type": "markdown",
   "metadata": {},
   "source": [
    "### Q10. Best Time to Buy and Sell Stock (121)\n",
    "\n",
    "https://leetcode.com/problems/best-time-to-buy-and-sell-stock/description/\n",
    "\n",
    "You are given an array prices where prices[i] is the price of a given stock on the ith day.\n",
    "\n",
    "You want to maximize your profit by choosing a single day to buy one stock and choosing a different day in the future to sell that stock.\n",
    "\n",
    "Return the maximum profit you can achieve from this transaction. If you cannot achieve any profit, return 0.\n",
    "\n",
    "Example 1:\n",
    "\n",
    "Input: prices = [7,1,5,3,6,4]\n",
    "Output: 5\n",
    "Explanation: Buy on day 2 (price = 1) and sell on day 5 (price = 6), profit = 6-1 = 5.\n",
    "Note that buying on day 2 and selling on day 1 is not allowed because you must buy before you sell.\n",
    "\n",
    "#### *Idea*\n",
    "\n",
    "1. The problem is asking us to find the min/max value in the array, but min value must be in front of the max value. \n",
    "\n",
    "2. If the number on the left are all bigger than the number in the right, we would return 0. \n",
    "\n",
    "Brute force: \n",
    "\n",
    "Fix the left pointer, consider as the price to buy and move the right pointer from position left+1 t othe end of the array and find the maximum. Get the maximum of the value. "
   ]
  },
  {
   "cell_type": "code",
   "execution_count": null,
   "metadata": {
    "vscode": {
     "languageId": "javascript"
    }
   },
   "outputs": [],
   "source": [
    "# Brute force \n",
    "class Solution:\n",
    "    def maxProfit(self, prices: List[int]) -> int:\n",
    "        sell = 0 \n",
    "        for left in range(0, len(prices)-1):\n",
    "            for right in range(left+1, len(prices)): \n",
    "                if prices[right] > prices[left]: \n",
    "                    sell = max(sell, prices[right]-prices[left])\n",
    "        return sell\n",
    "# Works! But excess the time limit, we need to come up with a more effiency solution"
   ]
  },
  {
   "cell_type": "markdown",
   "metadata": {},
   "source": [
    "1. Make left pointer start from index 0, right pointer start from index left +1 \n",
    "\n",
    "2. When right value is less than left value, move left pointer to right pointer and right pointer + 1 \n",
    "\n",
    "3. If right value is bigger than left, then calcuate the selling price. "
   ]
  },
  {
   "cell_type": "code",
   "execution_count": null,
   "metadata": {
    "vscode": {
     "languageId": "javascript"
    }
   },
   "outputs": [],
   "source": [
    "class Solution:\n",
    "    def maxProfit(self, prices: List[int]) -> int:\n",
    "        left = 0 \n",
    "        sell = 0\n",
    "        right = left \n",
    "        while left <= right and right < len(prices): \n",
    "            if prices[right] < prices[left]:\n",
    "                left = right\n",
    "                right += 1 \n",
    "            else:\n",
    "                sell = max(sell, prices[right]-prices[left])\n",
    "                right += 1 \n",
    "        return sell\n",
    "# 20.14%, 37.45%, we can see that it is still very slow as we used max() function, let get right of it and only run O(n)!"
   ]
  },
  {
   "cell_type": "code",
   "execution_count": null,
   "metadata": {
    "vscode": {
     "languageId": "javascript"
    }
   },
   "outputs": [],
   "source": [
    "class Solution:\n",
    "    def maxProfit(self, prices: List[int])-> int: \n",
    "        sell = 0\n",
    "        buy = prices[0]\n",
    "        for p in prices: \n",
    "            if p < buy: \n",
    "                buy = p \n",
    "            if sell < p - buy:\n",
    "                sell = p-buy\n",
    "        return sell \n",
    "# 88.4%, 37.45%"
   ]
  },
  {
   "cell_type": "markdown",
   "metadata": {},
   "source": [
    "### Q11. Longest Palindromic Substring (5)\n",
    "\n",
    "https://leetcode.com/problems/longest-palindromic-substring/description/\n",
    "\n",
    "Given a string s, return the longest palindromic substring in s.\n",
    "\n",
    "Example 1:\n",
    "\n",
    "Input: s = \"babad\"\n",
    "Output: \"bab\"\n",
    "Explanation: \"aba\" is also a valid answer.\n",
    "Example 2:\n",
    "\n",
    "Input: s = \"cbbd\"\n",
    "Output: \"bb\"\n",
    "\n",
    "#### *Idea*\n",
    "\n",
    "1. As the question ask about substring, we should consider using sliding window or using the idea of 2 pointer. \n",
    "2. What happen if we have 2 pointer, left and right: left starting from the beginning of the string and right start from the end of the string. But that has a problem, how do I updated left / right pointer? \n",
    "3. By observe the question, it is not hard to see that a palindromic substring must have a character work as middle. For example, aba, the middle character is b. aabbaa, the middle character is bb. \n",
    "4. Thus, we should have 2 cases, one is for odd number of character in string another one is for even number of character in string. \n",
    "5. We can start from the position 0, call this number middle, make left pointer point to the left of the middle and right pointer point to the right of the middle. \n",
    "6. Now, check if the str [left, right] is Palindromic, if yes, then record the len of the str[left, right] and continuous update the left/right point. Else, move our middle number to next position. \n"
   ]
  },
  {
   "cell_type": "code",
   "execution_count": null,
   "metadata": {
    "vscode": {
     "languageId": "javascript"
    }
   },
   "outputs": [],
   "source": [
    "class Solution:\n",
    "    def longestPalindrome(self, s: str) -> str:\n",
    "        result = \"\"\n",
    "        def expand(left, right):\n",
    "            while left >= 0 and right <len(s) and s[left] == s[right]:\n",
    "                left -= 1 \n",
    "                right += 1 \n",
    "            # noticed that left+1 left would be out of bound and right doesn't need to + 1 ! \n",
    "            return s[left+1:right]\n",
    "        for position in range(len(s)):\n",
    "            # if consider current index as a odd palindromic:\n",
    "            odd = expand(position, position)\n",
    "            # if consider current index as even palindromic: \n",
    "            even = expand(position, position+1)\n",
    "            if len(odd) > len(result):\n",
    "                result = odd\n",
    "            # make sure you use if instead of elif, otherwise it will fail when even case is longer than odd and result\n",
    "            if len(even) > len(result):\n",
    "                result = even\n",
    "\n",
    "        return result \n",
    "# 83.3%, 73.0%"
   ]
  },
  {
   "cell_type": "markdown",
   "metadata": {},
   "source": [
    "### Q12. 3 Sum (15)\n",
    "\n",
    "https://leetcode.com/problems/3sum/description/\n",
    "\n",
    "Given an integer array nums, return all the triplets [nums[i], nums[j], nums[k]] such that i != j, i != k, and j != k, and nums[i] + nums[j] + nums[k] == 0.\n",
    "\n",
    "Notice that the solution set must not contain duplicate triplets.\n",
    "\n",
    "Example 1:\n",
    "\n",
    "Input: nums = [-1,0,1,2,-1,-4]\n",
    "Output: [[-1,-1,2],[-1,0,1]]\n",
    "Explanation: \n",
    "nums[0] + nums[1] + nums[2] = (-1) + 0 + 1 = 0.\n",
    "nums[1] + nums[2] + nums[4] = 0 + 1 + (-1) = 0.\n",
    "nums[0] + nums[3] + nums[4] = (-1) + 2 + (-1) = 0.\n",
    "The distinct triplets are [-1,0,1] and [-1,-1,2].\n",
    "Notice that the order of the output and the order of the triplets does not matter.\n",
    "\n",
    "#### *Idea*\n",
    "1. Fix one element then this is a very simple 2 sum question! The problem is how to optimaize our algorithm. \n",
    "2. Sorted the array into non decreasing algorithm -> which has to be 0 or negative number in the first position of the array. \n",
    "3. Fix one point (starting from beginning of the array to the end), find 2 sum that is -num[fixpoint]. \n",
    "4. Once the fix point value reach to a number > 0, we could stop as we must need a number <= 0 to achieve sum = 0 at the end. \n",
    "5. In order to avoid duplicated, make sure you skip the same number (each fix point num must be unique)"
   ]
  },
  {
   "cell_type": "code",
   "execution_count": null,
   "metadata": {
    "vscode": {
     "languageId": "javascript"
    }
   },
   "outputs": [],
   "source": [
    "class Solution:\n",
    "    def threeSum(self, nums: List[int]) -> List[List[int]]:\n",
    "        # sort the list into non decreasing order \n",
    "        nums.sort()\n",
    "        l = len(nums)\n",
    "        result = []\n",
    "        for index, n in enumerate (nums): \n",
    "            # stop the loop once our fix point > 0: \n",
    "            if n > 0: \n",
    "                break; \n",
    "            # avoid duplicate by checking index i \n",
    "            if index > 0 and nums[index-1] == nums[index]:\n",
    "                continue \n",
    "            left = index + 1 \n",
    "            right = l - 1 \n",
    "            # avoid the case left = right and go through the whole possible value \n",
    "            while left < right: \n",
    "                sum3 = n + nums[left] + nums[right]\n",
    "                if sum3 < 0: \n",
    "                    # less than 0 means we need more bigger value, move the left pointer: \n",
    "                    left += 1 \n",
    "                elif sum3 > 0:\n",
    "                    # means we need smaller value, move right pointer:\n",
    "                    right -= 1 \n",
    "                else:\n",
    "                    # if equals to 0: \n",
    "                    result.append([n,nums[left],nums[right]])\n",
    "                    left += 1 \n",
    "                    right -= 1 \n",
    "                    # avoid duplicate\n",
    "                    while nums[left] == nums[left-1] and left < right: \n",
    "                        left += 1 \n",
    "        return result \n",
    "\n",
    "# 95.98%, 30.93%"
   ]
  },
  {
   "cell_type": "markdown",
   "metadata": {},
   "source": [
    "### Q13. Top K frequent Elements (347)\n",
    "\n",
    "https://leetcode.com/problems/top-k-frequent-elements/description/\n",
    "\n",
    "Given an integer array nums and an integer k, return the k most frequent elements. You may return the answer in any order.\n",
    "\n",
    "Example 1:\n",
    "\n",
    "Input: nums = [1,1,1,2,2,3], k = 2\n",
    "Output: [1,2]\n",
    "\n",
    "#### *Idea*\n",
    "1. As it is asking for frequency, we should use map to keep track of the frequency. \n",
    "2. The key point is how to get the first max values from map and next second and then third and so on....\n",
    "3. Assume we have a freq dict = {A:B} where A is the number, B is the number of this number appear in the list. \n",
    "4. Use bucket array to store the info as bucket array's index would represent the frequency\n",
    "5. Now use a loop start from the last element from bucket array (which maintain the biggest value of B)=> has the maximum value of frequency and append it to the result. "
   ]
  },
  {
   "cell_type": "code",
   "execution_count": null,
   "metadata": {
    "vscode": {
     "languageId": "javascript"
    }
   },
   "outputs": [],
   "source": [
    "class Solution:\n",
    "    def topKFrequent(self, nums: List[int], k: int) -> List[int]:\n",
    "        freq = {}\n",
    "        bucket = [[] for _ in range(len(nums) + 1)]\n",
    "        result = []\n",
    "        for n in nums: \n",
    "            freq[n] = freq.get(n,0)+1 \n",
    "        for n, fre in freq.items():\n",
    "            bucket[fre].append(n)\n",
    "        for i in range(len(bucket)-1, 0, -1): \n",
    "            for element in bucket[i]:\n",
    "                # noticed that at the same index , bucket could have multiple values, so add them one by one\n",
    "                result.append(element)\n",
    "            if len(result)==k:\n",
    "                return result\n",
    "# 15.38%, 30.84%"
   ]
  },
  {
   "cell_type": "markdown",
   "metadata": {},
   "source": [
    "You don't wan to use bucket array? No problem, let's use max heap instead! \n",
    "\n",
    "But what if we only know how to do min heap? Just change all the number from positive to negative and our min heap will work just like max heap! \n",
    "\n",
    "1. Still need to use dict to keep track of the frequency.\n",
    "2. Instead of a bucket array, use heap to store (key, value), key is the numebr of frequency and value is value! Don't forget using neagative instead of positive. For example: nums = [1,1,1,2,2,3]. We should store heap as (-3, 1), (-2, 2), (-1, 3). So (-3, 1) will be the minimum in this case, which is the most frequency element we are trying to find! \n",
    "3. Just append the head of the heap until we result k element! "
   ]
  },
  {
   "cell_type": "code",
   "execution_count": null,
   "metadata": {
    "vscode": {
     "languageId": "javascript"
    }
   },
   "outputs": [],
   "source": [
    "class Solution:\n",
    "    def topKFrequent(self, nums: List[int], k: int) -> List[int]:\n",
    "        freq = {}\n",
    "        result = []\n",
    "        heap = []\n",
    "        for x in nums: \n",
    "            freq[x] = freq.get(x, 0)+1 \n",
    "        # make sure use .items() if you need both element\n",
    "        for n, frq in freq.items(): \n",
    "            heapq.heappush(heap,(-frq, n))\n",
    "        while len(result) < k : \n",
    "            result.append(heapq.heappop(heap)[1])\n",
    "        return result\n",
    "# 96.82%, 69.21%\n",
    "# This way is easier, faster and happier!"
   ]
  },
  {
   "cell_type": "markdown",
   "metadata": {},
   "source": [
    "### Q14. Median of two sorted Array (4)\n",
    "\n",
    "https://leetcode.com/problems/median-of-two-sorted-arrays/description/\n",
    "\n",
    "Given two sorted arrays nums1 and nums2 of size m and n respectively, return the median of the two sorted arrays.\n",
    "\n",
    "The overall run time complexity should be O(log (m+n)).\n",
    "\n",
    "\n",
    "Example 1:\n",
    "\n",
    "Input: nums1 = [1,3], nums2 = [2]\n",
    "Output: 2.00000\n",
    "Explanation: merged array = [1,2,3] and median is 2.\n",
    "\n",
    "#### *Idea*\n",
    "1. As we want to find the median of the sorted array. If m+n = odd => median = number at position (m+n)//2 (noted that position started from 0). If m+n = even => median = number at (m+n)//2 - 1 and (m+n)//2.\n",
    "2. As we know both nums1 and nums2 are sorted, we could use left and right pointer to indicte the number at each nums array. And based on their value, move the left and right pointer until it reach to the position of median. \n"
   ]
  },
  {
   "cell_type": "code",
   "execution_count": null,
   "metadata": {
    "vscode": {
     "languageId": "javascript"
    }
   },
   "outputs": [],
   "source": [
    "class Solution:\n",
    "    def findMedianSortedArrays(self, nums1: List[int], nums2: List[int]) -> float:\n",
    "        # median position \n",
    "        # odd [1,2,3] => median pos = 3//2 = 1\n",
    "        # even [1,2,3,4] => median pos = 4//2 - 1 and 4//2 => 1,2 \n",
    "        m, n = len(nums1), len(nums2)\n",
    "        position = (m+n)//2 \n",
    "        m_ptr, n_ptr = 0, 0\n",
    "        # in order to handle the even case: \n",
    "        last_value, current_value = 0, 0 \n",
    "        while m_ptr+n_ptr < position+1:\n",
    "            last_value = current_value\n",
    "            if m_ptr < m and (n_ptr>=n or nums1[m_ptr] < nums2[n_ptr]):\n",
    "                current_value = nums1[m_ptr]\n",
    "                m_ptr += 1 \n",
    "            else:\n",
    "                current_value = nums2[n_ptr]\n",
    "                n_ptr+=1 \n",
    "        if (m+n)%2 == 1 : \n",
    "            return current_value\n",
    "        else:\n",
    "            return (last_value+current_value) / 2 \n",
    "# 67.54%, 63.65%"
   ]
  },
  {
   "cell_type": "markdown",
   "metadata": {},
   "source": [
    "What? You hate pointer? \n",
    "\n",
    "Ok, let try to do brute force then: "
   ]
  },
  {
   "cell_type": "code",
   "execution_count": null,
   "metadata": {
    "vscode": {
     "languageId": "javascript"
    }
   },
   "outputs": [],
   "source": [
    "class Solution:\n",
    "    def findMedianSortedArrays(self, nums1: List[int], nums2: List[int]) -> float:\n",
    "        two = nums1 + nums2\n",
    "        # sorted it!\n",
    "        two.sort()\n",
    "        l = len(two)\n",
    "        if l%2 ==1 : \n",
    "            return two[l//2]\n",
    "        else: \n",
    "            return (two[l//2-1]+two[l//2])/2\n",
    "# 38.85%, 63.65%"
   ]
  },
  {
   "cell_type": "markdown",
   "metadata": {},
   "source": [
    "### Q15. Pow(x,n) (50)\n",
    "\n",
    "https://leetcode.com/problems/powx-n/description/\n",
    "\n",
    "Implement pow(x, n), which calculates x raised to the power n (i.e., xn).\n",
    "\n",
    "Example 1:\n",
    "\n",
    "Input: x = 2.00000, n = 10\n",
    "Output: 1024.00000\n",
    "Example 2:\n",
    "\n",
    "Input: x = 2.10000, n = 3\n",
    "Output: 9.26100\n",
    "\n",
    "#### *Idea*\n",
    "1. Starting from 1, keep multiple the input x for n times. This is the brute force idea. "
   ]
  },
  {
   "cell_type": "code",
   "execution_count": null,
   "metadata": {
    "vscode": {
     "languageId": "javascript"
    }
   },
   "outputs": [],
   "source": [
    "class Solution:\n",
    "    def myPow(self, x: float, n: int) -> float:\n",
    "        result = 1\n",
    "        if n > 0: \n",
    "            for i in range(n):\n",
    "                result *= x \n",
    "        elif n == 0: \n",
    "            result = 1\n",
    "        else: \n",
    "            n = abs(n)\n",
    "            for i in range(n):\n",
    "                result *= x\n",
    "            result = 1/result\n",
    "        return result\n",
    "# Works for 291/306, but excess time limit "
   ]
  },
  {
   "cell_type": "markdown",
   "metadata": {},
   "source": [
    "How to improve effeiciency? \n",
    "\n",
    "Consider: For n is a even number: 2^4 = (2^2) * (2^2). \n",
    "\n",
    "How about 2^(10)? \n",
    "\n",
    "2^(10) = 2^(5) * 2^(5), can you simplify it even more? \n",
    "\n",
    "2^5 = 2*(2^2)*(2^2) => this is a odd case, thus: \n",
    "\n",
    "2^(10) = [2*(2^2)*(2^2)] * [2*(2^2)*(2^2)]\n",
    "\n",
    "pow(2^10) => 2*2*2*2*2*2*2*2*2*2 \n",
    "\n",
    "          => n = 10 -> n / 2 = 5: x = 2*2 = 4\n",
    "\n",
    "          => n = 5 -> result *= x => 4 -> n - 1 = 4\n",
    "\n",
    "          => n = 4 -> n / 2 = 2: x = 4*4 = 16 \n",
    "\n",
    "          => n = 2 -> x = 16(16) = 256 -> n / 2 = 1 \n",
    "          \n",
    "          => result * x = 256 * 4 \n",
    "\n",
    "We can see that we always end when n is odd -> n = 1 \n",
    "\n",
    "So, we will updated the final output everytime when n is odd and update value of x when n is even."
   ]
  },
  {
   "cell_type": "code",
   "execution_count": null,
   "metadata": {
    "vscode": {
     "languageId": "javascript"
    }
   },
   "outputs": [],
   "source": [
    "class Solution:\n",
    "    def myPow(self, x: float, n: int) -> float:\n",
    "        # input x = 2, n =16 \n",
    "        result = 1\n",
    "        if n== 0: \n",
    "            return 1 \n",
    "        if n < 0: \n",
    "            x = 1/x \n",
    "            n = -n \n",
    "        while n > 0 : \n",
    "            # if it is odd \n",
    "            if n%2 == 1:\n",
    "                result = x * result\n",
    "            x = x * x \n",
    "            n = n//2\n",
    "        return result\n",
    "# 56.66%, 85.17%"
   ]
  },
  {
   "cell_type": "markdown",
   "metadata": {},
   "source": [
    "### Q16. Merge K sorted Lists (23)\n",
    "\n",
    "https://leetcode.com/problems/merge-k-sorted-lists/description/\n",
    "\n",
    "You are given an array of k linked-lists lists, each linked-list is sorted in ascending order.\n",
    "\n",
    "Merge all the linked-lists into one sorted linked-list and return it.\n",
    "\n",
    "Example 1:\n",
    "\n",
    "Input: lists = [[1,4,5],[1,3,4],[2,6]]\n",
    "\n",
    "Output: [1,1,2,3,4,4,5,6]\n",
    "\n",
    "Explanation: The linked-lists are:\n",
    "\n",
    "[\n",
    "\n",
    "  1->4->5,\n",
    "\n",
    "  1->3->4,\n",
    "\n",
    "  2->6\n",
    "\n",
    "]\n",
    "\n",
    "merging them into one sorted list:\n",
    "\n",
    "1->1->2->3->4->4->5->6\n",
    "\n",
    "#### *Idea*\n",
    "1. Brute force: have a for loop loop through the entire input list. Sorted the number from the list and push each number into a new linkedlist.  \n"
   ]
  },
  {
   "cell_type": "code",
   "execution_count": null,
   "metadata": {
    "vscode": {
     "languageId": "javascript"
    }
   },
   "outputs": [],
   "source": [
    "# Definition for singly-linked list.\n",
    "# class ListNode:\n",
    "#     def __init__(self, val=0, next=None):\n",
    "#         self.val = val\n",
    "#         self.next = next\n",
    "class Solution:\n",
    "    def mergeKLists(self, lists: List[Optional[ListNode]]) -> Optional[ListNode]:\n",
    "        # if it is empty \n",
    "        if not lists:\n",
    "            return None\n",
    "        \n",
    "        # get the node from the lists \n",
    "        nodes = []\n",
    "        for l in lists:\n",
    "            # make sure it is not a None \n",
    "            while l:\n",
    "                nodes.append(l.val)\n",
    "                l = l.next\n",
    "        # node we get everything, we want to sorted them based on value\n",
    "        nodes.sort()\n",
    "        # now, convert it to the linkedlist \n",
    "        first = ListNode()\n",
    "        current = first \n",
    "        for n in nodes: \n",
    "            current.next = ListNode(n)\n",
    "            current = current.next \n",
    "        return first.next \n",
    "# 82.84%, 17.07% "
   ]
  },
  {
   "cell_type": "markdown",
   "metadata": {},
   "source": [
    "We can also use min heap instead of sorted, just for fun. "
   ]
  },
  {
   "cell_type": "code",
   "execution_count": null,
   "metadata": {
    "vscode": {
     "languageId": "javascript"
    }
   },
   "outputs": [],
   "source": [
    "# Definition for singly-linked list.\n",
    "# class ListNode:\n",
    "#     def __init__(self, val=0, next=None):\n",
    "#         self.val = val\n",
    "#         self.next = next\n",
    "class Solution:\n",
    "    def mergeKLists(self, lists: List[Optional[ListNode]]) -> Optional[ListNode]:\n",
    "        # if it is empty \n",
    "        if not lists:\n",
    "            return None\n",
    "        \n",
    "        # get the node from the lists \n",
    "        heap = []\n",
    "        for l in lists:\n",
    "            # make sure it is not a None \n",
    "            while l:\n",
    "                heapq.heappush(heap, l.val)\n",
    "                l = l.next\n",
    "        # node we get everything, we want to sorted them based on value\n",
    "        # now, convert it to the linkedlist \n",
    "        first = ListNode()\n",
    "        current = first \n",
    "        while heap: \n",
    "            current.next = ListNode(heapq.heappop(heap))\n",
    "            current = current.next \n",
    "        return first.next \n",
    "# 93%, 16.92% "
   ]
  },
  {
   "cell_type": "markdown",
   "metadata": {},
   "source": [
    "We can also use the idea divide and conquer and the idea of merge sorted: \n",
    "\n",
    "Spilt our list into 2 part and keep doing that and we will sorted the part we just split in the order. "
   ]
  },
  {
   "cell_type": "code",
   "execution_count": null,
   "metadata": {
    "vscode": {
     "languageId": "javascript"
    }
   },
   "outputs": [],
   "source": [
    "# Definition for singly-linked list.\n",
    "# class ListNode:\n",
    "#     def __init__(self, val=0, next=None):\n",
    "#         self.val = val\n",
    "#         self.next = next\n",
    "class Solution:\n",
    "    def mergeKLists(self, lists: List[Optional[ListNode]]) -> Optional[ListNode]:\n",
    "        # if it is empty \n",
    "        if not lists:\n",
    "            return None\n",
    "        if len(lists) == 1:\n",
    "            return lists[0]\n",
    "        # Keep separate the list until it reach to 1 element\n",
    "        mid= len(lists) // 2\n",
    "        left = self.mergeKLists(lists[:mid])\n",
    "        right = self.mergeKLists(lists[mid:])\n",
    "        return self.helper(left, right)\n",
    "    def helper(self, left, right): \n",
    "            current =  ListNode(0)\n",
    "            head = current \n",
    "            while left and right: \n",
    "                if left.val < right.val: \n",
    "                    current.next = left\n",
    "                    left = left.next\n",
    "                else: \n",
    "                    current.next = right \n",
    "                    right = right.next\n",
    "                current = current.next\n",
    "            # current continue point to the remaining value from l1 or l2. \n",
    "            current.next = left if left else right \n",
    "            return head.next\n",
    "# 86.15%, 52.03%"
   ]
  },
  {
   "cell_type": "markdown",
   "metadata": {},
   "source": [
    "### Q17. Add Two Number (2)\n",
    "\n",
    "https://leetcode.com/problems/add-two-numbers/\n",
    "\n",
    "You are given two non-empty linked lists representing two non-negative integers. The digits are stored in reverse order, and each of their nodes contains a single digit. Add the two numbers and return the sum as a linked list.\n",
    "\n",
    "You may assume the two numbers do not contain any leading zero, except the number 0 itself.\n",
    "\n",
    "#### *Idea*\n",
    "1. We are given 2 linked list, so the trival way to think about this is that using a for loop, take out the number from the linked list one by one. The first value multiple with 1, second value multiple with 10, third one mupliply with 100 ..... \n",
    "\n",
    "Example: Given Linked List [2,4,3] => 2*1 + 4*10 + 3*100 = 342 \n",
    "\n",
    "[5,6,4] => 5 + 60 + 400 = 465 \n",
    "\n",
    "Add them together and get the result => 807. \n",
    "\n",
    "Now, put 807 back to the linked list: \n",
    "\n",
    "807%10 = 7, 807 //= 10 => 80\n",
    "\n",
    "80%10 = 0, 80 => 8 \n",
    "\n",
    "8%10 = 8, 8 => 0 => end the loop, return the linked list. "
   ]
  },
  {
   "cell_type": "code",
   "execution_count": null,
   "metadata": {
    "vscode": {
     "languageId": "javascript"
    }
   },
   "outputs": [],
   "source": [
    "# Definition for singly-linked list.\n",
    "# class ListNode(object):\n",
    "#     def __init__(self, val=0, next=None):\n",
    "#         self.val = val\n",
    "#         self.next = next\n",
    "class Solution(object):\n",
    "    def addTwoNumbers(self, l1, l2):\n",
    "        \"\"\"\n",
    "        :type l1: ListNode\n",
    "        :type l2: ListNode\n",
    "        :rtype: ListNode\n",
    "        \"\"\"\n",
    "        sum1 = self.helper(l1)\n",
    "        sum2 = self.helper(l2)\n",
    "        # get their total \n",
    "        total = sum1+sum2 \n",
    "        # put my total into the result linked list \n",
    "        head = ListNode(0)\n",
    "        current = head \n",
    "        if total == 0:\n",
    "            return head\n",
    "        while total > 0: \n",
    "            target = total % 10 \n",
    "            total = total // 10 \n",
    "            current.next = ListNode(target)\n",
    "            current = current.next\n",
    "        return head.next \n",
    "    # a helper function to calculate the sum of one linked list\n",
    "    def helper(self, lists): \n",
    "        result = 0 \n",
    "        # factor goes from 1, 10, 100.....\n",
    "        factor = 1\n",
    "        while lists: \n",
    "            result += lists.val * factor\n",
    "            factor *= 10 \n",
    "            lists = lists.next\n",
    "        return result \n",
    "# 39.39%, 35.03%"
   ]
  },
  {
   "cell_type": "markdown",
   "metadata": {},
   "source": [
    "Well, this way is very easy but it is not optimal. How can we improve our code? \n",
    "\n",
    "Instead of taking all the value out of the linked list and find their total, can we just directly find their sum through reserve order? \n",
    "\n",
    "Of course we can! \n",
    "\n",
    "Consider [2,4,3] and [5,6,4]\n",
    "\n",
    "2+5=7, looks good => we know the first number in the output linked list must be 7! \n",
    "\n",
    "4+6 = 10 => second number should be 0 and we want to add 1 to the next value. How do we do that? \n",
    "\n",
    "Use carry! \n",
    "\n",
    "Everytime we add 2 number together, if it is > 9, it is a 2 digit number and we get value via //.\n",
    "\n",
    "10 // 10 = 1 = carry, we will add this carry to the next number of our linked list ! \n",
    "\n",
    "Next number we want = 3 + 4 + carry = 8! Solve! \n",
    "\n",
    "But what if we have linked list [9,7] and [9,9]?\n",
    "\n",
    "9 + 9 = 18 => 1 is carry, and we will use 18%10 as our first value in the output linked list. \n",
    "\n",
    "7 + 9 + carry = 18 => 8 is our next value in the output \n",
    "\n",
    "carry = 1 will be the last value in the output! \n",
    "\n",
    "Reminder: Always check if l1 / l2 are None!!!"
   ]
  },
  {
   "cell_type": "code",
   "execution_count": null,
   "metadata": {
    "vscode": {
     "languageId": "javascript"
    }
   },
   "outputs": [],
   "source": [
    "# Definition for singly-linked list.\n",
    "# class ListNode(object):\n",
    "#     def __init__(self, val=0, next=None):\n",
    "#         self.val = val\n",
    "#         self.next = next\n",
    "class Solution(object):\n",
    "    def addTwoNumbers(self, l1, l2):\n",
    "        \"\"\"\n",
    "        :type l1: ListNode\n",
    "        :type l2: ListNode\n",
    "        :rtype: ListNode\n",
    "        \"\"\"\n",
    "        carry = 0\n",
    "        total = 0\n",
    "        head = ListNode(0)\n",
    "        current = head \n",
    "        while l1 or l2 or carry: \n",
    "            val1 = l1.val if l1 else 0 \n",
    "            val2 = l2.val if l2 else 0\n",
    "            total = val1 + val2 + carry\n",
    "            current.next = ListNode(total%10)\n",
    "            carry = total // 10 \n",
    "            if l1 :\n",
    "                l1 = l1.next \n",
    "            if l2:\n",
    "                l2 = l2.next  \n",
    "            current = current.next\n",
    "        return head.next \n",
    "# 90.86%, 71.53%"
   ]
  },
  {
   "cell_type": "markdown",
   "metadata": {},
   "source": [
    "### Random Bonus Question! \n",
    "\n",
    "Given a list of array, we want to find the exact number of pair such that its sum = target, no repeat pair allow! "
   ]
  },
  {
   "cell_type": "code",
   "execution_count": null,
   "metadata": {
    "vscode": {
     "languageId": "javascript"
    }
   },
   "outputs": [],
   "source": [
    "def Pair(lists, target):\n",
    "    # Write your code here\n",
    "    pair, seen = set(),set()\n",
    "    for price in lists: \n",
    "        goal=target - price\n",
    "        if goal in seen: \n",
    "            pair.add((min(goal, price), max(goal,price)))\n",
    "        seen.add(price)\n",
    "    \n",
    "    return len(pair)"
   ]
  },
  {
   "cell_type": "markdown",
   "metadata": {},
   "source": [
    "### Q18. Search in Rotated Sorted Array (33)\n",
    "\n",
    "https://leetcode.com/problems/search-in-rotated-sorted-array/description/\n",
    "\n",
    "There is an integer array nums sorted in ascending order (with distinct values).\n",
    "\n",
    "Prior to being passed to your function, nums is possibly rotated at an unknown pivot index k (1 <= k < nums.length) such that the resulting array is [nums[k], nums[k+1], ..., nums[n-1], nums[0], nums[1], ..., nums[k-1]] (0-indexed). For example, [0,1,2,4,5,6,7] might be rotated at pivot index 3 and become [4,5,6,7,0,1,2].\n",
    "\n",
    "Given the array nums after the possible rotation and an integer target, return the index of target if it is in nums, or -1 if it is not in nums.\n",
    "\n",
    "You must write an algorithm with O(log n) runtime complexity.\n",
    "\n",
    "Example 1:\n",
    "\n",
    "Input: nums = [4,5,6,7,0,1,2], target = 0\n",
    "Output: 4\n",
    "\n",
    "#### *Idea*\n",
    "\n",
    "1. If we ignor the information about rotated, this problem is just a simply question about finding the corresponding index to the target number. If the target number doesn't exist in the list, return -1. \n",
    "2. In order to that, we could use a map to store the value from the list. Make the value of the list as the key and the corresponding index as their value. \n",
    "3. For the output value, return the index if the key exist in the map else return -1. "
   ]
  },
  {
   "cell_type": "code",
   "execution_count": null,
   "metadata": {
    "vscode": {
     "languageId": "javascript"
    }
   },
   "outputs": [],
   "source": [
    "class Solution:\n",
    "    def search(self, nums: List[int], target: int) -> int:\n",
    "        temp = {}\n",
    "        for i, n in enumerate(nums):\n",
    "            temp[n] = i\n",
    "        if target in temp:\n",
    "            return temp[target]\n",
    "        return -1 \n",
    "\n",
    "        # 89.96%, 5.03%"
   ]
  },
  {
   "cell_type": "markdown",
   "metadata": {},
   "source": [
    "We could also use the idea of binary search. Noted the original array is sorted, if the array never rotated, then we could directly apply the binary search. If the array was rotated, the binary search would still apply. Consider the follwoing cases: \n",
    "1. Let left pointer point to the first index of the array, let right pointer point to the last element of the array, mid = (left+right) // 2. \n",
    "2. If nums[mid] == target: done! we got the result \n",
    "3. if nums[mid] > nums[left]: [0,18,36]: the number from left to mid must in increasing order. Example: [1,2,3,4,5,6] / [3,4,5,6,7,0,1,2,3]: noticed this works as the original array is sorted/ \n",
    "4. if nums[mid] < nums[left]: the number from mid to right must in increasing order. Example:[3,4,0,1,2]. \n",
    "5. Now, we know which part is in the increasing order, we could start to compare the nums[mid] with target.\n",
    "6. Assue right side is sorted: [7,8,9,10,0,1,2,3,4,5,6], nums[mid] = 1, target = 8. \n",
    "7. Then compare nums[mid] with target and nums[right]. (compare with nums[left] is not helpping as they are not sorted). Result: nums[mid] < target, target > nums[right]. \n",
    "8. We know we need to move our right pointer to the left of the mid value. mid - 1 as we know nums[mid]!=target.\n",
    "9. Now, right pointer point to value 0 and left pointer point to 7. nums[mid] = 9. \n",
    "10. We know left side is sorted as nums[mid] < nums[left]. Compare nums[mid] with nums[left] and target. We noticed that nums[mid] = 9 > target and target > nums[left]. We need to move our right pointer as our goal is target > nums[left] and nums[mid] == target. \n",
    "11. Find our target! \n"
   ]
  },
  {
   "cell_type": "code",
   "execution_count": null,
   "metadata": {
    "vscode": {
     "languageId": "javascript"
    }
   },
   "outputs": [],
   "source": [
    "class Solution:\n",
    "    def search(self, nums: List[int], target: int) -> int:\n",
    "        left, right = 0, len(nums)-1\n",
    "        mid = (left+right)//2 \n",
    "        # not left < right as it is possible to have a case left = right = mid and nums[mid] == target \n",
    "        while left <= right: \n",
    "            mid = (left+right)//2 \n",
    "            if nums[mid] == target: \n",
    "                return mid \n",
    "            # check which side is sorted: \n",
    "            if nums[mid] < nums[left]:\n",
    "                # right side must be sorted\n",
    "                # if target > nums[right]: target bigger than the maximum value of right side: we need to move right pointer\n",
    "                # if target < nums[mid] : need to move right pointer too \n",
    "                if target > nums[right] or target < nums[mid]:\n",
    "                    right = mid - 1 \n",
    "                else: \n",
    "                    left = mid + 1 \n",
    "            else: \n",
    "                # left side must be sorted \n",
    "                # if target > nums[mid] or target < nums[left], we need to move left pointer. \n",
    "                if target > nums[mid] or target < nums[left]: \n",
    "                    left = mid + 1 \n",
    "                else:\n",
    "                    right = mid - 1\n",
    "        return -1  \n",
    "# 67.19%, 5.03% "
   ]
  },
  {
   "cell_type": "markdown",
   "metadata": {},
   "source": [
    "### Q19. Koko eating Bananas\n",
    "\n",
    "https://leetcode.com/problems/koko-eating-bananas/description/\n",
    "\n",
    "Koko loves to eat bananas. There are n piles of bananas, the ith pile has piles[i] bananas. The guards have gone and will come back in h hours.\n",
    "\n",
    "Koko can decide her bananas-per-hour eating speed of k. Each hour, she chooses some pile of bananas and eats k bananas from that pile. If the pile has less than k bananas, she eats all of them instead and will not eat any more bananas during this hour.\n",
    "\n",
    "Koko likes to eat slowly but still wants to finish eating all the bananas before the guards return.\n",
    "\n",
    "Return the minimum integer k such that she can eat all the bananas within h hours.\n",
    "\n",
    "Example 1:\n",
    "\n",
    "Input: piles = [3,6,7,11], h = 8\n",
    "Output: 4 as 4>3=>1 hr, 4 * 2 >6 => 2 hr, 4*3 > 7=> 2hr, 4*3>11 => 3 hr, total is 8 hours.\n",
    "\n",
    "#### *Idea*\n",
    "1. If h = len(lists) => return max(lists) as Koko need to eat all bananas in the pile each hour. \n",
    "2. Extra hour = h - len(lists) => These are the maximum hour Kokos can waste while eating. \n",
    "3. Brute force Idea, let Koko eating bananas with the k = 1, if the hour it took less than h, then k += 1 until it is more than h, return the k we got.  \n"
   ]
  },
  {
   "cell_type": "code",
   "execution_count": null,
   "metadata": {
    "vscode": {
     "languageId": "javascript"
    }
   },
   "outputs": [],
   "source": [
    "class Solution:\n",
    "    def minEatingSpeed(self, piles: List[int], h: int) -> int:\n",
    "        k = 1\n",
    "        hour = 0\n",
    "        while True: \n",
    "            hour = 0 \n",
    "            for p in piles:\n",
    "                hour += ceil(p/k)\n",
    "            if hour <= h: \n",
    "                return k\n",
    "            k+=1\n",
    "        return k \n",
    "# works for 107/126 cases but exceeded time limit"
   ]
  },
  {
   "cell_type": "markdown",
   "metadata": {},
   "source": [
    "How do we optimal our code? \n",
    "\n",
    "The range of k must between 1 and max(lists). Why not using binary tree idea to improve our program? Let's start from the number of k in the middle. If the hours it took is longer than the h, then we know our k is too small and we should move our left point. Else, we should move our right point. When do we need the loop? When left = right! "
   ]
  },
  {
   "cell_type": "code",
   "execution_count": null,
   "metadata": {
    "vscode": {
     "languageId": "javascript"
    }
   },
   "outputs": [],
   "source": [
    "class Solution:\n",
    "    def minEatingSpeed(self, piles: List[int], h: int) -> int:\n",
    "        left, right = 1, max(piles)\n",
    "        while left < right: \n",
    "            mid = (left+right)//2 \n",
    "            hour = 0\n",
    "            for p in piles: \n",
    "                hour+= ceil(p/mid)\n",
    "            if hour <= h:\n",
    "                # as mid is a valid solution, let right =mid and try to find if there is a smaller k \n",
    "                right = mid \n",
    "            else: \n",
    "                left=mid+1\n",
    "        return left \n",
    "# 95.41%, 13.25% "
   ]
  },
  {
   "cell_type": "markdown",
   "metadata": {},
   "source": [
    "### Q20. Product of array except self (238)\n",
    "\n",
    "https://leetcode.com/problems/product-of-array-except-self/description/\n",
    "\n",
    "Given an integer array nums, return an array answer such that answer[i] is equal to the product of all the elements of nums except nums[i].\n",
    "\n",
    "The product of any prefix or suffix of nums is guaranteed to fit in a 32-bit integer.\n",
    "\n",
    "You must write an algorithm that runs in O(n) time and without using the division operation\n",
    " \n",
    "Example 1:\n",
    "\n",
    "Input: nums = [1,2,3,4]\n",
    "Output: [24,12,8,6]\n",
    "\n",
    "#### *Idea*\n",
    "1. If we could use division, the answer would be super straight forward. \n",
    "2. Since we want to solve it in the O(n), time, in one single loop, how do we calcaute the prefix and suffix for value at index i. \n",
    "3. We can have 2 maps, one is prefix and the other one is suffix, update for the current index and previous index as the loop increment. "
   ]
  },
  {
   "cell_type": "code",
   "execution_count": null,
   "metadata": {
    "vscode": {
     "languageId": "javascript"
    }
   },
   "outputs": [],
   "source": [
    "class Solution:\n",
    "    def productExceptSelf(self, nums: List[int]) -> List[int]:\n",
    "        result = []\n",
    "        # for left / right most value, their prefix/suffix are 1 in both cases \n",
    "        prefix, suffix = {0:1},{len(nums)-1:1}\n",
    "        for index in range(1,len(nums)):\n",
    "            prefix[index] = prefix[index-1]*nums[index-1]\n",
    "        for index in range(len(nums)-2, -1, -1):\n",
    "            suffix[index] = suffix[index+1]*nums[index+1]\n",
    "        for n in range(len(nums)):\n",
    "            result.append(prefix[n] * suffix[n])\n",
    "        return result \n",
    "# 22.14%, 5.36%"
   ]
  },
  {
   "cell_type": "markdown",
   "metadata": {},
   "source": [
    "How do we reduce the memory we used? Is it possible that not using prefix / suffix as map and directly apply the prefix/suffix value into our result? "
   ]
  },
  {
   "cell_type": "code",
   "execution_count": null,
   "metadata": {
    "vscode": {
     "languageId": "javascript"
    }
   },
   "outputs": [],
   "source": [
    "class Solution:\n",
    "    def productExceptSelf(self, nums: List[int]) -> List[int]:\n",
    "        result = [1]*len(nums)\n",
    "        # for left / right most value, their prefix/suffix are 1 in both cases \n",
    "        prefix, suffix = 1,1\n",
    "        # calcuate prefix and store the value to the result  \n",
    "        for index in range(1,len(nums)):\n",
    "            prefix *= nums[index-1]\n",
    "            result[index] = prefix\n",
    "            \n",
    "        # calcualte suffix and store the value to the output list\n",
    "        for index in range(len(nums)-2, -1, -1): \n",
    "            suffix *= nums[index+1]\n",
    "            result[index] *= suffix\n",
    "            \n",
    "        return result\n",
    "# 72.32%, 47.61%"
   ]
  }
 ],
 "metadata": {
  "kernelspec": {
   "display_name": "Python 3",
   "language": "python",
   "name": "python3"
  },
  "language_info": {
   "codemirror_mode": {
    "name": "ipython",
    "version": 3
   },
   "file_extension": ".py",
   "mimetype": "text/x-python",
   "name": "python",
   "nbconvert_exporter": "python",
   "pygments_lexer": "ipython3",
   "version": "3.11.10"
  },
  "orig_nbformat": 4
 },
 "nbformat": 4,
 "nbformat_minor": 2
}
