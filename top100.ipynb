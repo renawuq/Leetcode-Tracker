{
 "cells": [
  {
   "cell_type": "markdown",
   "metadata": {},
   "source": [
    "## TOP 100\n",
    "\n",
    "https://leetcode.com/problems/two-sum/description/\n",
    "\n",
    "### 1. Two Sum\n",
    "Given an array of integers nums and an integer target, return indices of the two numbers such that they add up to target.\n",
    "\n",
    "You may assume that each input would have exactly one solution, and you may not use the same element twice.\n",
    "\n",
    "You can return the answer in any order.\n",
    "\n",
    "Input: nums = [2,7,11,15], target = 9\n",
    "Output: [0,1]\n",
    "Explanation: Because nums[0] + nums[1] == 9, we return [0, 1]."
   ]
  },
  {
   "cell_type": "code",
   "execution_count": 1,
   "metadata": {},
   "outputs": [],
   "source": [
    "# brute force \n",
    "class Solution:\n",
    "    def twoSum(self, nums: List[int], target: int) -> List[int]:\n",
    "        need = 0 \n",
    "        for i in range (len(nums)): \n",
    "            need = target - nums[i] \n",
    "            for j in range(i+1, len(nums)):\n",
    "                if nums[j] == need: \n",
    "                    return [i, j]\n",
    "# 34.75%, 75.69% "
   ]
  },
  {
   "cell_type": "code",
   "execution_count": null,
   "metadata": {},
   "outputs": [],
   "source": [
    "# map \n",
    "class Solution:\n",
    "    def twoSum(self, nums: List[int], target: int) -> List[int]:\n",
    "        need = {}\n",
    "        for index, num in enumerate(nums):\n",
    "            compl = target - num \n",
    "            if compl in need:\n",
    "                return [need[compl], index]\n",
    "            need[num] = index\n",
    "        return 0\n",
    "# 76.36%, 30.44% "
   ]
  },
  {
   "cell_type": "markdown",
   "metadata": {},
   "source": [
    "### 2. LRU Cache (#146) \n",
    "\n",
    "https://leetcode.com/problems/lru-cache/description/\n",
    "\n",
    "Design a data structure that follows the constraints of a Least Recently Used (LRU) cache.\n",
    "\n",
    "Implement the LRUCache class:\n",
    "\n",
    "LRUCache(int capacity) Initialize the LRU cache with positive size capacity.\n",
    "int get(int key) Return the value of the key if the key exists, otherwise return -1.\n",
    "void put(int key, int value) Update the value of the key if the key exists. Otherwise, add the key-value pair to the cache. If the number of keys exceeds the capacity from this operation, evict the least recently used key.\n",
    "The functions get and put must each run in O(1) average time complexi"
   ]
  },
  {
   "cell_type": "code",
   "execution_count": null,
   "metadata": {
    "vscode": {
     "languageId": "javascript"
    }
   },
   "outputs": [],
   "source": [
    "class LRUCache:\n",
    "    # fixed size cache of key value pairs using doubly linked list and an unordered map\n",
    "    def __init__(self, capacity: int):\n",
    "        self.capacity = capacity\n",
    "        self.cache = OrderedDict()\n",
    "\n",
    "    def get(self, key: int) -> int:\n",
    "        if key not in self.cache:\n",
    "            return -1\n",
    "        value = self.cache.pop(key)\n",
    "        self.cache[key] = value\n",
    "        return value\n",
    "\n",
    "    def put(self, key: int, value: int) -> None:\n",
    "        if key in self.cache:\n",
    "            self.cache.pop(key)\n",
    "        elif len(self.cache) == self.capacity:\n",
    "            self.cache.popitem(last=False)\n",
    "        self.cache[key] = value\n",
    "\n",
    "\n",
    "# Your LRUCache object will be instantiated and called as such:\n",
    "# obj = LRUCache(capacity)\n",
    "# param_1 = obj.get(key)\n",
    "# obj.put(key,value)\n"
   ]
  },
  {
   "cell_type": "markdown",
   "metadata": {},
   "source": [
    "### 3. Merge Intervals (56)\n",
    "\n",
    "https://leetcode.com/problems/merge-intervals/description/\n",
    "\n",
    "Given an array of intervals where intervals[i] = [starti, endi], merge all overlapping intervals, and return an array of the non-overlapping intervals that cover all the intervals in the input.\n",
    "\n",
    " \n",
    "\n",
    "Example 1:\n",
    "\n",
    "Input: intervals = [[1,3],[2,6],[8,10],[15,18]]\n",
    "Output: [[1,6],[8,10],[15,18]]\n",
    "Explanation: Since intervals [1,3] and [2,6] overlap, merge them into [1,6].\n",
    "Example 2:\n",
    "\n",
    "Input: intervals = [[1,4],[4,5]]\n",
    "Output: [[1,5]]\n",
    "Explanation: Intervals [1,4] and [4,5] are considered overlapping.\n"
   ]
  },
  {
   "cell_type": "code",
   "execution_count": null,
   "metadata": {
    "vscode": {
     "languageId": "javascript"
    }
   },
   "outputs": [],
   "source": [
    "class Solution:\n",
    "    def merge(self, intervals: List[List[int]]) -> List[List[int]]:\n",
    "        result = []\n",
    "        # sort the intervals based on their first index value\n",
    "        intervals.sort(key=lambda x: x[0])\n",
    "        for x in intervals: \n",
    "            # append to it if result is empty or the first element is smaller than the result last one \n",
    "            if len(result) == 0 or x[0] > result[-1][1]:\n",
    "                result.append(x)\n",
    "            else:\n",
    "                # updated the second index value to the max of it \n",
    "                result[-1][1] = max(result[-1][1], x[1])\n",
    "        return result\n",
    "# 85.42%, 52.77% "
   ]
  },
  {
   "cell_type": "markdown",
   "metadata": {},
   "source": [
    "### 4. Number of Islands (200)\n",
    "\n",
    "https://leetcode.com/problems/number-of-islands/description/\n",
    "\n",
    "Given an m x n 2D binary grid grid which represents a map of '1's (land) and '0's (water), return the number of islands.\n",
    "\n",
    "An island is surrounded by water and is formed by connecting adjacent lands horizontally or vertically. You may assume all four edges of the grid are all surrounded by water.\n",
    "\n",
    "\n",
    "Example 1:\n",
    "\n",
    "Input: grid = [\n",
    "  [\"1\",\"1\",\"1\",\"1\",\"0\"],\n",
    "  [\"1\",\"1\",\"0\",\"1\",\"0\"],\n",
    "  [\"1\",\"1\",\"0\",\"0\",\"0\"],\n",
    "  [\"0\",\"0\",\"0\",\"0\",\"0\"]\n",
    "]\n",
    "Output: 1\n",
    "Example 2:\n",
    "\n",
    "Input: grid = [\n",
    "  [\"1\",\"1\",\"0\",\"0\",\"0\"],\n",
    "  [\"1\",\"1\",\"0\",\"0\",\"0\"],\n",
    "  [\"0\",\"0\",\"1\",\"0\",\"0\"],\n",
    "  [\"0\",\"0\",\"0\",\"1\",\"1\"]\n",
    "]\n",
    "Output: 3\n",
    " "
   ]
  },
  {
   "cell_type": "markdown",
   "metadata": {},
   "source": [
    "#### Idea: \n",
    "\n",
    "Consider all connected 1 as one island. Everytime you encounter a '1' from the matrix, mark it and do dfs based on the '1', mark all the '1' has been visit to '0' and add 1 island to our result. "
   ]
  },
  {
   "cell_type": "code",
   "execution_count": null,
   "metadata": {
    "vscode": {
     "languageId": "javascript"
    }
   },
   "outputs": [],
   "source": [
    "class Solution:\n",
    "    def numIslands(self, grid: List[List[str]]) -> int:\n",
    "        result = 0 # vaiable that we are plan to return \n",
    "        # declear dfs function, take the index of the position \n",
    "        def dfs (r,c): \n",
    "            # check if the current point is in the bound and if it is a '1' or '0'\n",
    "            # if it is a '0', we already visit it before. \n",
    "            if r < 0 or r >= len(grid) or c < 0 or c >= len(grid[0]) or grid[r][c] == '0': \n",
    "                return \n",
    "            grid[r][c] = '0'\n",
    "            dfs (r-1, c) # up\n",
    "            dfs (r+1, c) # down\n",
    "            dfs (r, c-1) # left\n",
    "            dfs (r, c+1) # right\n",
    "\n",
    "        # Iterate the whole matrix, checking if there is a '1': \n",
    "        for row in range (len(grid)):\n",
    "            for col in range (len(grid[0])):\n",
    "                if grid[row][col] == '1': \n",
    "                    dfs(row, col)\n",
    "                    result += 1\n",
    "        return result\n",
    "# 99.60%, 95.83% "
   ]
  },
  {
   "cell_type": "markdown",
   "metadata": {},
   "source": [
    "### Q5. Longest Substring Without Repeating Character (3)\n",
    "\n",
    "https://leetcode.com/problems/longest-substring-without-repeating-characters/description/\n",
    "\n",
    "Given a string s, find the length of the longest \n",
    "substring without repeating characters.\n",
    "\n",
    " \n",
    "\n",
    "Example 1:\n",
    "\n",
    "Input: s = \"abcabcbb\"\n",
    "Output: 3\n",
    "Explanation: The answer is \"abc\", with the length of 3.\n",
    "Example 2:\n",
    "\n",
    "Input: s = \"bbbbb\"\n",
    "Output: 1\n",
    "Explanation: The answer is \"b\", with the length of 1."
   ]
  },
  {
   "cell_type": "markdown",
   "metadata": {},
   "source": [
    "#### Idea: \n",
    "\n",
    "Question asked about **longest** **Substring**, so we should thnk about sliding window: \n",
    "\n",
    "When to update the left pointer? \n",
    "\n",
    "When there is repeated character found by right pointer, move left to the position of right pointer \n",
    "\n",
    "How? \n",
    "\n",
    "By Queue: use the idea first in first out, pop out the letter coming from the left pointer"
   ]
  },
  {
   "cell_type": "code",
   "execution_count": 2,
   "metadata": {
    "vscode": {
     "languageId": "javascript"
    }
   },
   "outputs": [],
   "source": [
    "class Solution:\n",
    "    def lengthOfLongestSubstring(self, s: str) -> int:\n",
    "        queue = []\n",
    "        result = 0 \n",
    "        left = 0 \n",
    "        for right in range(len(s)):\n",
    "            while s[right] in queue:\n",
    "                queue.pop(0)\n",
    "                left+=1 \n",
    "            queue.append(s[right])\n",
    "            result = max(result, right-left+1)\n",
    "        return result\n",
    "# 19.05%, 81.02% \n",
    "                "
   ]
  },
  {
   "cell_type": "markdown",
   "metadata": {},
   "source": [
    "Way tooo slow, try to use set! "
   ]
  },
  {
   "cell_type": "code",
   "execution_count": null,
   "metadata": {
    "vscode": {
     "languageId": "javascript"
    }
   },
   "outputs": [],
   "source": [
    "class Solution:\n",
    "    def lengthOfLongestSubstring(self, s: str) -> int:\n",
    "        unique = set()\n",
    "        result = 0 \n",
    "        left = 0 \n",
    "        for right in range(len(s)):\n",
    "            while s[right] in unique:\n",
    "                unique.remove(s[left])\n",
    "                left+=1 \n",
    "            unique.add(s[right])\n",
    "            result = max(result, right-left+1)\n",
    "        return result\n",
    "# 32.94, 95.26 "
   ]
  },
  {
   "cell_type": "markdown",
   "metadata": {},
   "source": [
    "Faster than before, but still slow, use dictionary! So we don't need to move the left pointer one by one! "
   ]
  },
  {
   "cell_type": "code",
   "execution_count": null,
   "metadata": {
    "vscode": {
     "languageId": "javascript"
    }
   },
   "outputs": [],
   "source": [
    "class Solution:\n",
    "    def lengthOfLongestSubstring(self, s: str) -> int:\n",
    "        unique = {}\n",
    "        result = 0 \n",
    "        left = 0 \n",
    "        for right in range(len(s)):\n",
    "            if s[right] in unique and unique[s[right]] >= left:\n",
    "                left = unique[s[right]] + 1 \n",
    "            unique[s[right]] = right\n",
    "            result = max(result, right-left+1)\n",
    "        return result\n",
    "# 80.96%, 40.6%"
   ]
  },
  {
   "cell_type": "markdown",
   "metadata": {},
   "source": [
    "### Q6. Kth Largest Element in an Array\n",
    "\n",
    "Given an integer array nums and an integer k, return the kth largest element in the array.\n",
    "\n",
    "Note that it is the kth largest element in the sorted order, not the kth distinct element.\n",
    "\n",
    "Can you solve it without sorting? \n",
    "\n",
    "#### Input: nums = [3,2,1,5,6,4], k = 2\n",
    "Output: 5"
   ]
  },
  {
   "cell_type": "markdown",
   "metadata": {},
   "source": [
    "Sorted first and get the kth element: "
   ]
  },
  {
   "cell_type": "code",
   "execution_count": null,
   "metadata": {
    "vscode": {
     "languageId": "javascript"
    }
   },
   "outputs": [],
   "source": [
    "# Q6 \n",
    "class Solution:\n",
    "    def findKthLargest(self, nums: List[int], k:int) -> int: \n",
    "        nums.sort()\n",
    "        return nums[-k]\n",
    "# 59.69%, 31.75%"
   ]
  },
  {
   "cell_type": "markdown",
   "metadata": {},
   "source": [
    "Works! But that's cheating. Let's thnk about some solution without sorting. \n",
    "\n",
    "Min-heap: \n",
    "\n",
    "Create a heap that contains only k elements. As the min-heap will also store the smallest value in the root, by processing the entire array, we will eventually get the kth largest number. "
   ]
  },
  {
   "cell_type": "code",
   "execution_count": null,
   "metadata": {
    "vscode": {
     "languageId": "javascript"
    }
   },
   "outputs": [],
   "source": [
    "# Min - heaps: \n",
    "import heapq\n",
    "class Solution:\n",
    "    def findKthLargest(self, nums: List[int], k: int) -> int:\n",
    "        # create list only contain the first k element from array \n",
    "        heap = nums[:k]\n",
    "        # make it to min-heap:\n",
    "        heapq.heapify(heap)\n",
    "\n",
    "        # update the min-heap by the remaining number in the array \n",
    "        for x in nums[k:]: \n",
    "            if heap[0] < x: \n",
    "                heapq.heappop(heap)\n",
    "                heapq.heappush(heap, x)\n",
    "        return heap[0]\n",
    "# 86.19%, 84.91% "
   ]
  },
  {
   "cell_type": "markdown",
   "metadata": {},
   "source": [
    "### Q7. Trapping Rain Water (42)\n",
    "\n",
    "https://leetcode.com/problems/trapping-rain-water/description/\n",
    "\n",
    "Given n non-negative integers representing an elevation map where the width of each bar is 1, compute how much water it can trap after raining.\n",
    "\n",
    "Input: height = [0,1,0,2,1,0,1,3,2,1,2,1]\n",
    "Output: 6\n",
    "Explanation: The above elevation map (black section) is represented by array [0,1,0,2,1,0,1,3,2,1,2,1]. In this case, 6 units of rain water (blue section) are being trapped.\n"
   ]
  },
  {
   "cell_type": "markdown",
   "metadata": {},
   "source": [
    "#### Idea: \n",
    "\n",
    "By obsering the problem, we would notice that the rain water get trap depend on the left and right block around it. But the immediate block is not enough (i.e: i-1 / i+1) since it would also depend on the outer range if the outer range is higher than the inner range (i.e: i-2/i+2) is bigger than (i-1/i+1). \n",
    "\n",
    "So, we want set the current index as our goal and find how many water get trap in the current index by checking the maximum value of its left and its right. Since the maximum water get trap depend on the smaller value. We should find min(max_left, max_right). And use this result - height[index]"
   ]
  },
  {
   "cell_type": "code",
   "execution_count": null,
   "metadata": {
    "vscode": {
     "languageId": "javascript"
    }
   },
   "outputs": [],
   "source": [
    "class Solution:\n",
    "    def trap(self, height: List[int]) -> int:\n",
    "        left_max, right_max = 0,0 \n",
    "        result = 0\n",
    "        for index in range (len(height)): \n",
    "            if index == 0: \n",
    "                left_max = 0\n",
    "            else:\n",
    "                left_max = max(height[:index])\n",
    "            right_max = max(height[index:])\n",
    "            temp = min(left_max, right_max)-height[index]\n",
    "            if temp > 0:\n",
    "                result += temp\n",
    "        return result\n",
    "# It works for 322/323 cases, but it is not effiency enough. "
   ]
  },
  {
   "cell_type": "markdown",
   "metadata": {},
   "source": [
    "The main problem is that max(xxxx) is runing for O(n) so the total run time become O(n^2). So we could come up a solution to solve this issue. That's instead of using max() function, try to find the max of left and right side separate by using 2 for loop and calculate the trap water by another for loop! "
   ]
  },
  {
   "cell_type": "code",
   "execution_count": null,
   "metadata": {
    "vscode": {
     "languageId": "javascript"
    }
   },
   "outputs": [],
   "source": [
    "class Solution: \n",
    "    def trap(self, height: List[int]) -> int:\n",
    "        left_max = [0]*len(height)\n",
    "        right_max = [0]*len(height)\n",
    "        left_max[0]=height[0]\n",
    "        right_max[len(height)-1] = height[len(height)-1]\n",
    "\n",
    "        # get left_max at each index: \n",
    "        for index in range (1, len(height)):\n",
    "            left_max[index] = max(height[index], left_max[index-1])\n",
    "        \n",
    "        # get right max at each index: \n",
    "        for index in range (len(height)-2,-1,-1): # n-2: starting point of the loop, -1:stopping when <0, -1: loop decrease by 1\n",
    "            right_max[index] = max(height[index], right_max[index+1])\n",
    "        \n",
    "        result = 0\n",
    "        # get result! \n",
    "        for index in range(len(height)): \n",
    "            result += min(left_max[index], right_max[index]) - height[index]\n",
    "\n",
    "        return result\n",
    "# 17.73%, 42.49%"
   ]
  },
  {
   "cell_type": "markdown",
   "metadata": {},
   "source": [
    "It works! But it still running slowly (due to my laptop, it should run super fast and it take O(n) time). Now, let's try to use 2 pointer so we could get rid of the pointer!"
   ]
  },
  {
   "cell_type": "code",
   "execution_count": null,
   "metadata": {
    "vscode": {
     "languageId": "javascript"
    }
   },
   "outputs": [],
   "source": [
    "class Solution: \n",
    "    def trap(self, height: List[int]) -> int:\n",
    "        left, right = 0, len(height)-1\n",
    "        left_max, right_max = height[left], height[right]\n",
    "        result = 0\n",
    "        while left < right: \n",
    "            if height[left] < height[right]:\n",
    "                left+=1\n",
    "                left_max = max(left_max, height[left])\n",
    "                result += left_max-height[left]\n",
    "            else:\n",
    "                right -= 1 \n",
    "                right_max = max(right_max, height[right])\n",
    "                result += right_max - height[right]\n",
    "        return result \n",
    "# 47.18%, 98.56%"
   ]
  }
 ],
 "metadata": {
  "kernelspec": {
   "display_name": "Python 3",
   "language": "python",
   "name": "python3"
  },
  "language_info": {
   "codemirror_mode": {
    "name": "ipython",
    "version": 3
   },
   "file_extension": ".py",
   "mimetype": "text/x-python",
   "name": "python",
   "nbconvert_exporter": "python",
   "pygments_lexer": "ipython3",
   "version": "3.11.4"
  },
  "orig_nbformat": 4
 },
 "nbformat": 4,
 "nbformat_minor": 2
}
